{
 "cells": [
  {
   "cell_type": "markdown",
   "metadata": {},
   "source": [
    "# RomExchange API Sandbox"
   ]
  },
  {
   "cell_type": "markdown",
   "metadata": {},
   "source": [
    "API Docs : https://jessicayeh.github.io/rom-exchange-openapi/#section/Recent-Changes"
   ]
  },
  {
   "cell_type": "code",
   "execution_count": 1,
   "metadata": {},
   "outputs": [],
   "source": [
    "import requests\n"
   ]
  },
  {
   "cell_type": "code",
   "execution_count": 2,
   "metadata": {},
   "outputs": [],
   "source": [
    "url = 'https://www.romexchange.com/api?item=mastela&exact=false'\n",
    " \n",
    "headers = {'User-Agent': 'XY', 'Content-type': 'application/json'}\n"
   ]
  },
  {
   "cell_type": "code",
   "execution_count": 3,
   "metadata": {},
   "outputs": [],
   "source": [
    "r = requests.get(url, headers = headers)\n"
   ]
  },
  {
   "cell_type": "code",
   "execution_count": 4,
   "metadata": {},
   "outputs": [
    {
     "data": {
      "text/plain": [
       "200"
      ]
     },
     "execution_count": 4,
     "metadata": {},
     "output_type": "execute_result"
    }
   ],
   "source": [
    "r.status_code"
   ]
  },
  {
   "cell_type": "code",
   "execution_count": 5,
   "metadata": {},
   "outputs": [
    {
     "data": {
      "text/plain": [
       "{'Date': 'Tue, 26 May 2020 05:50:38 GMT', 'Server': 'nginx/1.17.6', 'Content-Type': 'application/json', 'Content-Length': '583', 'Vary': 'Accept-Encoding', 'Content-Encoding': 'gzip', 'X-Server-Cache': 'true', 'X-Proxy-Cache': 'MISS'}"
      ]
     },
     "execution_count": 5,
     "metadata": {},
     "output_type": "execute_result"
    }
   ],
   "source": [
    "r.headers"
   ]
  },
  {
   "cell_type": "code",
   "execution_count": 6,
   "metadata": {},
   "outputs": [
    {
     "name": "stdout",
     "output_type": "stream",
     "text": [
      "[{\"name\":\"Mastela Fruit\",\"type\":8,\"image\":null,\"global_sea_diff\":-31.1,\"global\":{\"week\":{\"data\":[{\"snap\":true,\"price\":1330930,\"time\":\"2020-01-07T08:26:57Z\"},{\"snap\":true,\"price\":1271953,\"time\":\"2020-01-08T08:13:52Z\"},{\"snap\":true,\"price\":1103197,\"time\":\"2020-01-09T08:31:43Z\"},{\"snap\":true,\"price\":1239346,\"time\":\"2020-01-11T08:33:59Z\"},{\"snap\":true,\"price\":1062386,\"time\":\"2020-01-14T08:20:20Z\"}],\"change\":-20.2},\"latest\":1062386,\"latest_time\":\"2020-01-14T08:20:20Z\"},\"sea\":{\"week\":{\"data\":[{\"snap\":false,\"price\":699973,\"time\":\"2020-01-07T11:08:25Z\"},{\"snap\":false,\"price\":674722,\"time\":\"2020-01-08T10:52:15Z\"},{\"snap\":false,\"price\":665887,\"time\":\"2020-01-09T11:24:06Z\"},{\"snap\":true,\"price\":661969,\"time\":\"2020-01-10T11:48:26Z\"},{\"snap\":true,\"price\":693119,\"time\":\"2020-01-11T11:35:06Z\"},{\"snap\":false,\"price\":731711,\"time\":\"2020-01-14T11:03:14Z\"}],\"change\":4.5},\"latest\":731711,\"latest_time\":\"2020-01-14T11:03:14Z\"}},{\"name\":\"Seed of Mastela\",\"type\":11,\"image\":null,\"global_sea_diff\":-31.8,\"global\":{\"week\":{\"data\":[{\"snap\":false,\"price\":251375,\"time\":\"2020-01-08T08:20:23Z\"},{\"snap\":false,\"price\":217693,\"time\":\"2020-01-09T08:38:57Z\"},{\"snap\":false,\"price\":268589,\"time\":\"2020-01-10T08:35:46Z\"},{\"snap\":false,\"price\":245010,\"time\":\"2020-01-11T08:41:27Z\"},{\"snap\":false,\"price\":215300,\"time\":\"2020-01-12T08:34:31Z\"},{\"snap\":false,\"price\":210296,\"time\":\"2020-01-13T08:35:10Z\"},{\"snap\":false,\"price\":209658,\"time\":\"2020-01-14T08:26:39Z\"}],\"change\":-16.6},\"latest\":209658,\"latest_time\":\"2020-01-14T08:26:39Z\"},\"sea\":{\"week\":{\"data\":[{\"snap\":false,\"price\":131573,\"time\":\"2020-01-08T10:58:01Z\"},{\"snap\":false,\"price\":129889,\"time\":\"2020-01-09T11:30:09Z\"},{\"snap\":false,\"price\":129093,\"time\":\"2020-01-10T11:54:12Z\"},{\"snap\":true,\"price\":135391,\"time\":\"2020-01-11T11:40:56Z\"},{\"snap\":true,\"price\":142009,\"time\":\"2020-01-12T11:15:55Z\"},{\"snap\":false,\"price\":147192,\"time\":\"2020-01-13T11:24:25Z\"},{\"snap\":false,\"price\":143017,\"time\":\"2020-01-14T11:10:36Z\"}],\"change\":8.7},\"latest\":143017,\"latest_time\":\"2020-01-14T11:10:36Z\"}}]\n"
     ]
    }
   ],
   "source": [
    "print(r.text)"
   ]
  },
  {
   "cell_type": "code",
   "execution_count": null,
   "metadata": {},
   "outputs": [],
   "source": []
  }
 ],
 "metadata": {
  "kernelspec": {
   "display_name": "learn-env",
   "language": "python",
   "name": "learn-env"
  },
  "language_info": {
   "codemirror_mode": {
    "name": "ipython",
    "version": 3
   },
   "file_extension": ".py",
   "mimetype": "text/x-python",
   "name": "python",
   "nbconvert_exporter": "python",
   "pygments_lexer": "ipython3",
   "version": "3.6.9"
  }
 },
 "nbformat": 4,
 "nbformat_minor": 4
}
