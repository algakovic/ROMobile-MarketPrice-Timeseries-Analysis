{
 "cells": [
  {
   "cell_type": "markdown",
   "metadata": {},
   "source": [
    "# RomExchange API Sandbox"
   ]
  },
  {
   "cell_type": "markdown",
   "metadata": {},
   "source": [
    "API Docs : https://jessicayeh.github.io/rom-exchange-openapi/#section/Recent-Changes"
   ]
  },
  {
   "cell_type": "code",
   "execution_count": 11,
   "metadata": {},
   "outputs": [],
   "source": [
    "import requests\n",
    "import pandas as pd\n",
    "import json\n",
    "from pandas.io.json import json_normalize"
   ]
  },
  {
   "cell_type": "code",
   "execution_count": 2,
   "metadata": {},
   "outputs": [],
   "source": [
    "url = 'https://www.romexchange.com/api?item=hypnoticlog&exact=false'\n",
    " \n",
    "headers = {'User-Agent': 'XY', 'Content-type': 'application/json'}\n"
   ]
  },
  {
   "cell_type": "code",
   "execution_count": 3,
   "metadata": {},
   "outputs": [],
   "source": [
    "r = requests.get(url, headers = headers)\n"
   ]
  },
  {
   "cell_type": "code",
   "execution_count": 4,
   "metadata": {},
   "outputs": [
    {
     "data": {
      "text/plain": [
       "200"
      ]
     },
     "execution_count": 4,
     "metadata": {},
     "output_type": "execute_result"
    }
   ],
   "source": [
    "r.status_code"
   ]
  },
  {
   "cell_type": "code",
   "execution_count": 5,
   "metadata": {},
   "outputs": [
    {
     "data": {
      "text/plain": [
       "{'Date': 'Sun, 31 May 2020 01:34:23 GMT', 'Server': 'nginx/1.17.6', 'Content-Type': 'application/json', 'Content-Length': '497', 'Vary': 'Accept-Encoding', 'Content-Encoding': 'gzip', 'X-Server-Cache': 'true', 'X-Proxy-Cache': 'MISS'}"
      ]
     },
     "execution_count": 5,
     "metadata": {},
     "output_type": "execute_result"
    }
   ],
   "source": [
    "r.headers"
   ]
  },
  {
   "cell_type": "code",
   "execution_count": 6,
   "metadata": {},
   "outputs": [
    {
     "name": "stdout",
     "output_type": "stream",
     "text": [
      "[{\"name\":\"Hypnotic Log\",\"type\":11,\"image\":null,\"global_sea_diff\":-27.5,\"global\":{\"week\":{\"data\":[{\"snap\":false,\"price\":1015,\"time\":\"2020-01-08T08:22:32Z\"},{\"snap\":false,\"price\":1037,\"time\":\"2020-01-09T08:41:25Z\"},{\"snap\":false,\"price\":970,\"time\":\"2020-01-10T08:39:19Z\"},{\"snap\":false,\"price\":913,\"time\":\"2020-01-11T08:43:45Z\"},{\"snap\":false,\"price\":874,\"time\":\"2020-01-12T08:36:45Z\"},{\"snap\":false,\"price\":872,\"time\":\"2020-01-13T08:37:11Z\"},{\"snap\":false,\"price\":814,\"time\":\"2020-01-14T08:29:12Z\"}],\"change\":-19.8},\"latest\":814,\"latest_time\":\"2020-01-14T08:29:12Z\"},\"sea\":{\"week\":{\"data\":[{\"snap\":false,\"price\":601,\"time\":\"2020-01-08T11:01:27Z\"},{\"snap\":false,\"price\":618,\"time\":\"2020-01-09T11:34:00Z\"},{\"snap\":false,\"price\":633,\"time\":\"2020-01-10T11:59:45Z\"},{\"snap\":false,\"price\":636,\"time\":\"2020-01-11T11:47:37Z\"},{\"snap\":false,\"price\":634,\"time\":\"2020-01-12T11:22:03Z\"},{\"snap\":false,\"price\":603,\"time\":\"2020-01-13T11:29:58Z\"},{\"snap\":false,\"price\":590,\"time\":\"2020-01-14T11:14:47Z\"}],\"change\":-1.8},\"latest\":590,\"latest_time\":\"2020-01-14T11:14:47Z\"},\"autocorrect_accuracy\":95.7},{\"name\":\"HP Potion\",\"type\":16,\"image\":null,\"global_sea_diff\":-24.8,\"global\":{\"week\":{\"data\":[],\"change\":0},\"latest\":782817,\"latest_time\":\"2019-12-30T11:42:39Z\"},\"sea\":{\"week\":{\"data\":[{\"snap\":true,\"price\":598241,\"time\":\"2020-01-08T11:12:32Z\"},{\"snap\":true,\"price\":598963,\"time\":\"2020-01-10T12:10:44Z\"},{\"snap\":false,\"price\":602093,\"time\":\"2020-01-11T12:11:22Z\"},{\"snap\":false,\"price\":592292,\"time\":\"2020-01-13T11:53:07Z\"},{\"snap\":true,\"price\":588638,\"time\":\"2020-01-14T11:25:23Z\"}],\"change\":-1.6},\"latest\":588638,\"latest_time\":\"2020-01-14T11:25:23Z\"},\"autocorrect_accuracy\":60}]\n"
     ]
    }
   ],
   "source": [
    "print(r.text)"
   ]
  },
  {
   "cell_type": "code",
   "execution_count": null,
   "metadata": {},
   "outputs": [],
   "source": [
    "a = json.loads(r.text)\n",
    "\n",
    "res = json_normalize(a)\n",
    "##print(res)\n",
    "\n",
    "\n",
    "df = pd.DataFrame(res)\n",
    "\n",
    "df.head()"
   ]
  },
  {
   "cell_type": "code",
   "execution_count": null,
   "metadata": {},
   "outputs": [],
   "source": [
    "df = pd.read_json(r.text)"
   ]
  },
  {
   "cell_type": "code",
   "execution_count": null,
   "metadata": {},
   "outputs": [],
   "source": [
    "df"
   ]
  },
  {
   "cell_type": "code",
   "execution_count": null,
   "metadata": {},
   "outputs": [],
   "source": []
  }
 ],
 "metadata": {
  "kernelspec": {
   "display_name": "learn-env",
   "language": "python",
   "name": "learn-env"
  },
  "language_info": {
   "codemirror_mode": {
    "name": "ipython",
    "version": 3
   },
   "file_extension": ".py",
   "mimetype": "text/x-python",
   "name": "python",
   "nbconvert_exporter": "python",
   "pygments_lexer": "ipython3",
   "version": "3.6.9"
  }
 },
 "nbformat": 4,
 "nbformat_minor": 4
}
