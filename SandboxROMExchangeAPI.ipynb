{
 "cells": [
  {
   "cell_type": "markdown",
   "metadata": {},
   "source": [
    "# RomExchange API Sandbox"
   ]
  },
  {
   "cell_type": "markdown",
   "metadata": {},
   "source": [
    "Hello, \n",
    "\n",
    "RomExchange API Sandbox is currently a notebook where I can tinker with the Ro mobile Exchange API (see API Docs below).\n",
    "By tinker I mean:\n",
    "1. Making requests and obtaining data. \n",
    "2. Using Data in time series analysis.\n",
    "3. Implementing time series models e.g. SarimaX\n",
    "\n",
    "The data coveted is the historical market value of items in the game.\n",
    "\n",
    "API Docs : https://jessicayeh.github.io/rom-exchange-openapi/#section/Recent-Changes"
   ]
  },
  {
   "cell_type": "markdown",
   "metadata": {},
   "source": [
    "# Contents\n",
    "\n",
    "1. **Importing Libraries**  \n",
    "2. **Making requests**  \n",
    "3. **Making a Dataframe**  \n",
    "4. **Cleaning Data**  \n",
    "5. **Time series modeling**  "
   ]
  },
  {
   "cell_type": "markdown",
   "metadata": {},
   "source": [
    "## 1. Importing Libraries"
   ]
  },
  {
   "cell_type": "code",
   "execution_count": 16,
   "metadata": {},
   "outputs": [],
   "source": [
    "import requests\n",
    "import pandas as pd\n",
    "import json\n",
    "from pandas.io.json import json_normalize"
   ]
  },
  {
   "cell_type": "markdown",
   "metadata": {},
   "source": [
    "## 2. Making Requests"
   ]
  },
  {
   "cell_type": "code",
   "execution_count": 4,
   "metadata": {},
   "outputs": [],
   "source": [
    "# Define URL and Headers for the get below\n",
    "url = 'https://www.romexchange.com/api?item=hypnoticlog&exact=false'\n",
    " \n",
    "headers = {'User-Agent': 'XY', 'Content-type': 'application/json'}\n"
   ]
  },
  {
   "cell_type": "code",
   "execution_count": 5,
   "metadata": {},
   "outputs": [],
   "source": [
    "# Make request for the data\n",
    "r = requests.get(url, headers = headers)\n"
   ]
  },
  {
   "cell_type": "code",
   "execution_count": 6,
   "metadata": {},
   "outputs": [
    {
     "data": {
      "text/plain": [
       "200"
      ]
     },
     "execution_count": 6,
     "metadata": {},
     "output_type": "execute_result"
    }
   ],
   "source": [
    "r.status_code"
   ]
  },
  {
   "cell_type": "code",
   "execution_count": 8,
   "metadata": {},
   "outputs": [
    {
     "name": "stdout",
     "output_type": "stream",
     "text": [
      "[{\"name\":\"Hypnotic Log\",\"type\":11,\"image\":null,\"global_sea_diff\":-27.5,\"global\":{\"week\":{\"data\":[{\"snap\":false,\"price\":1015,\"time\":\"2020-01-08T08:22:32Z\"},{\"snap\":false,\"price\":1037,\"time\":\"2020-01-09T08:41:25Z\"},{\"snap\":false,\"price\":970,\"time\":\"2020-01-10T08:39:19Z\"},{\"snap\":false,\"price\":913,\"time\":\"2020-01-11T08:43:45Z\"},{\"snap\":false,\"price\":874,\"time\":\"2020-01-12T08:36:45Z\"},{\"snap\":false,\"price\":872,\"time\":\"2020-01-13T08:37:11Z\"},{\"snap\":false,\"price\":814,\"time\":\"2020-01-14T08:29:12Z\"}],\"change\":-19.8},\"latest\":814,\"latest_time\":\"2020-01-14T08:29:12Z\"},\"sea\":{\"week\":{\"data\":[{\"snap\":false,\"price\":601,\"time\":\"2020-01-08T11:01:27Z\"},{\"snap\":false,\"price\":618,\"time\":\"2020-01-09T11:34:00Z\"},{\"snap\":false,\"price\":633,\"time\":\"2020-01-10T11:59:45Z\"},{\"snap\":false,\"price\":636,\"time\":\"2020-01-11T11:47:37Z\"},{\"snap\":false,\"price\":634,\"time\":\"2020-01-12T11:22:03Z\"},{\"snap\":false,\"price\":603,\"time\":\"2020-01-13T11:29:58Z\"},{\"snap\":false,\"price\":590,\"time\":\"2020-01-14T11:14:47Z\"}],\"change\":-1.8},\"latest\":590,\"latest_time\":\"2020-01-14T11:14:47Z\"},\"autocorrect_accuracy\":95.7},{\"name\":\"HP Potion\",\"type\":16,\"image\":null,\"global_sea_diff\":-24.8,\"global\":{\"week\":{\"data\":[],\"change\":0},\"latest\":782817,\"latest_time\":\"2019-12-30T11:42:39Z\"},\"sea\":{\"week\":{\"data\":[{\"snap\":true,\"price\":598241,\"time\":\"2020-01-08T11:12:32Z\"},{\"snap\":true,\"price\":598963,\"time\":\"2020-01-10T12:10:44Z\"},{\"snap\":false,\"price\":602093,\"time\":\"2020-01-11T12:11:22Z\"},{\"snap\":false,\"price\":592292,\"time\":\"2020-01-13T11:53:07Z\"},{\"snap\":true,\"price\":588638,\"time\":\"2020-01-14T11:25:23Z\"}],\"change\":-1.6},\"latest\":588638,\"latest_time\":\"2020-01-14T11:25:23Z\"},\"autocorrect_accuracy\":60}]\n"
     ]
    }
   ],
   "source": [
    "# Obtain content of request payload\n",
    "print(r.text)"
   ]
  },
  {
   "cell_type": "markdown",
   "metadata": {},
   "source": [
    "## 3. Creating a Dataframe"
   ]
  },
  {
   "cell_type": "code",
   "execution_count": 19,
   "metadata": {},
   "outputs": [
    {
     "data": {
      "text/plain": [
       "list"
      ]
     },
     "execution_count": 19,
     "metadata": {},
     "output_type": "execute_result"
    }
   ],
   "source": [
    "# Jsonify the data payload\n",
    "j = r.json()\n",
    "type(j)"
   ]
  },
  {
   "cell_type": "code",
   "execution_count": 22,
   "metadata": {},
   "outputs": [
    {
     "data": {
      "text/html": [
       "<div>\n",
       "<style scoped>\n",
       "    .dataframe tbody tr th:only-of-type {\n",
       "        vertical-align: middle;\n",
       "    }\n",
       "\n",
       "    .dataframe tbody tr th {\n",
       "        vertical-align: top;\n",
       "    }\n",
       "\n",
       "    .dataframe thead th {\n",
       "        text-align: right;\n",
       "    }\n",
       "</style>\n",
       "<table border=\"1\" class=\"dataframe\">\n",
       "  <thead>\n",
       "    <tr style=\"text-align: right;\">\n",
       "      <th></th>\n",
       "      <th>name</th>\n",
       "      <th>type</th>\n",
       "      <th>image</th>\n",
       "      <th>global_sea_diff</th>\n",
       "      <th>global</th>\n",
       "      <th>sea</th>\n",
       "      <th>autocorrect_accuracy</th>\n",
       "    </tr>\n",
       "  </thead>\n",
       "  <tbody>\n",
       "    <tr>\n",
       "      <td>week</td>\n",
       "      <td>Hypnotic Log</td>\n",
       "      <td>11</td>\n",
       "      <td>None</td>\n",
       "      <td>-27.5</td>\n",
       "      <td>{'data': [{'snap': False, 'price': 1015, 'time...</td>\n",
       "      <td>{'data': [{'snap': False, 'price': 601, 'time'...</td>\n",
       "      <td>95.7</td>\n",
       "    </tr>\n",
       "    <tr>\n",
       "      <td>latest</td>\n",
       "      <td>Hypnotic Log</td>\n",
       "      <td>11</td>\n",
       "      <td>None</td>\n",
       "      <td>-27.5</td>\n",
       "      <td>814</td>\n",
       "      <td>590</td>\n",
       "      <td>95.7</td>\n",
       "    </tr>\n",
       "    <tr>\n",
       "      <td>latest_time</td>\n",
       "      <td>Hypnotic Log</td>\n",
       "      <td>11</td>\n",
       "      <td>None</td>\n",
       "      <td>-27.5</td>\n",
       "      <td>2020-01-14T08:29:12Z</td>\n",
       "      <td>2020-01-14T11:14:47Z</td>\n",
       "      <td>95.7</td>\n",
       "    </tr>\n",
       "  </tbody>\n",
       "</table>\n",
       "</div>"
      ],
      "text/plain": [
       "                     name  type image  global_sea_diff  \\\n",
       "week         Hypnotic Log    11  None            -27.5   \n",
       "latest       Hypnotic Log    11  None            -27.5   \n",
       "latest_time  Hypnotic Log    11  None            -27.5   \n",
       "\n",
       "                                                        global  \\\n",
       "week         {'data': [{'snap': False, 'price': 1015, 'time...   \n",
       "latest                                                     814   \n",
       "latest_time                               2020-01-14T08:29:12Z   \n",
       "\n",
       "                                                           sea  \\\n",
       "week         {'data': [{'snap': False, 'price': 601, 'time'...   \n",
       "latest                                                     590   \n",
       "latest_time                               2020-01-14T11:14:47Z   \n",
       "\n",
       "             autocorrect_accuracy  \n",
       "week                         95.7  \n",
       "latest                       95.7  \n",
       "latest_time                  95.7  "
      ]
     },
     "execution_count": 22,
     "metadata": {},
     "output_type": "execute_result"
    }
   ],
   "source": [
    "# How does the json object look as a dataframe?\n",
    "dftest = pd.DataFrame.from_dict(j[0])\n",
    "dftest"
   ]
  },
  {
   "cell_type": "code",
   "execution_count": 15,
   "metadata": {},
   "outputs": [],
   "source": [
    "#Attempt at pivot table to get at the info in the dict\n",
    "# df.pivot_table(df, values=df.global.items)\n",
    "# Pivot table is not what I need here. Continue."
   ]
  },
  {
   "cell_type": "code",
   "execution_count": 24,
   "metadata": {},
   "outputs": [
    {
     "data": {
      "text/plain": [
       "{'name': 'Hypnotic Log',\n",
       " 'type': 11,\n",
       " 'image': None,\n",
       " 'global_sea_diff': -27.5,\n",
       " 'global': {'week': {'data': [{'snap': False,\n",
       "     'price': 1015,\n",
       "     'time': '2020-01-08T08:22:32Z'},\n",
       "    {'snap': False, 'price': 1037, 'time': '2020-01-09T08:41:25Z'},\n",
       "    {'snap': False, 'price': 970, 'time': '2020-01-10T08:39:19Z'},\n",
       "    {'snap': False, 'price': 913, 'time': '2020-01-11T08:43:45Z'},\n",
       "    {'snap': False, 'price': 874, 'time': '2020-01-12T08:36:45Z'},\n",
       "    {'snap': False, 'price': 872, 'time': '2020-01-13T08:37:11Z'},\n",
       "    {'snap': False, 'price': 814, 'time': '2020-01-14T08:29:12Z'}],\n",
       "   'change': -19.8},\n",
       "  'latest': 814,\n",
       "  'latest_time': '2020-01-14T08:29:12Z'},\n",
       " 'sea': {'week': {'data': [{'snap': False,\n",
       "     'price': 601,\n",
       "     'time': '2020-01-08T11:01:27Z'},\n",
       "    {'snap': False, 'price': 618, 'time': '2020-01-09T11:34:00Z'},\n",
       "    {'snap': False, 'price': 633, 'time': '2020-01-10T11:59:45Z'},\n",
       "    {'snap': False, 'price': 636, 'time': '2020-01-11T11:47:37Z'},\n",
       "    {'snap': False, 'price': 634, 'time': '2020-01-12T11:22:03Z'},\n",
       "    {'snap': False, 'price': 603, 'time': '2020-01-13T11:29:58Z'},\n",
       "    {'snap': False, 'price': 590, 'time': '2020-01-14T11:14:47Z'}],\n",
       "   'change': -1.8},\n",
       "  'latest': 590,\n",
       "  'latest_time': '2020-01-14T11:14:47Z'},\n",
       " 'autocorrect_accuracy': 95.7}"
      ]
     },
     "execution_count": 24,
     "metadata": {},
     "output_type": "execute_result"
    }
   ],
   "source": [
    "# Reference for Dataframe indexing below\n",
    "j[0]"
   ]
  },
  {
   "cell_type": "code",
   "execution_count": 23,
   "metadata": {},
   "outputs": [
    {
     "data": {
      "text/html": [
       "<div>\n",
       "<style scoped>\n",
       "    .dataframe tbody tr th:only-of-type {\n",
       "        vertical-align: middle;\n",
       "    }\n",
       "\n",
       "    .dataframe tbody tr th {\n",
       "        vertical-align: top;\n",
       "    }\n",
       "\n",
       "    .dataframe thead th {\n",
       "        text-align: right;\n",
       "    }\n",
       "</style>\n",
       "<table border=\"1\" class=\"dataframe\">\n",
       "  <thead>\n",
       "    <tr style=\"text-align: right;\">\n",
       "      <th></th>\n",
       "      <th>snap</th>\n",
       "      <th>price</th>\n",
       "      <th>time</th>\n",
       "    </tr>\n",
       "  </thead>\n",
       "  <tbody>\n",
       "    <tr>\n",
       "      <td>0</td>\n",
       "      <td>False</td>\n",
       "      <td>1015</td>\n",
       "      <td>2020-01-08T08:22:32Z</td>\n",
       "    </tr>\n",
       "    <tr>\n",
       "      <td>1</td>\n",
       "      <td>False</td>\n",
       "      <td>1037</td>\n",
       "      <td>2020-01-09T08:41:25Z</td>\n",
       "    </tr>\n",
       "    <tr>\n",
       "      <td>2</td>\n",
       "      <td>False</td>\n",
       "      <td>970</td>\n",
       "      <td>2020-01-10T08:39:19Z</td>\n",
       "    </tr>\n",
       "    <tr>\n",
       "      <td>3</td>\n",
       "      <td>False</td>\n",
       "      <td>913</td>\n",
       "      <td>2020-01-11T08:43:45Z</td>\n",
       "    </tr>\n",
       "    <tr>\n",
       "      <td>4</td>\n",
       "      <td>False</td>\n",
       "      <td>874</td>\n",
       "      <td>2020-01-12T08:36:45Z</td>\n",
       "    </tr>\n",
       "    <tr>\n",
       "      <td>5</td>\n",
       "      <td>False</td>\n",
       "      <td>872</td>\n",
       "      <td>2020-01-13T08:37:11Z</td>\n",
       "    </tr>\n",
       "    <tr>\n",
       "      <td>6</td>\n",
       "      <td>False</td>\n",
       "      <td>814</td>\n",
       "      <td>2020-01-14T08:29:12Z</td>\n",
       "    </tr>\n",
       "  </tbody>\n",
       "</table>\n",
       "</div>"
      ],
      "text/plain": [
       "    snap  price                  time\n",
       "0  False   1015  2020-01-08T08:22:32Z\n",
       "1  False   1037  2020-01-09T08:41:25Z\n",
       "2  False    970  2020-01-10T08:39:19Z\n",
       "3  False    913  2020-01-11T08:43:45Z\n",
       "4  False    874  2020-01-12T08:36:45Z\n",
       "5  False    872  2020-01-13T08:37:11Z\n",
       "6  False    814  2020-01-14T08:29:12Z"
      ]
     },
     "execution_count": 23,
     "metadata": {},
     "output_type": "execute_result"
    }
   ],
   "source": [
    "# Attempt to make a dataframe out of just the 'data', price' dict headers\n",
    "df = pd.DataFrame(j[0]['global']['week']['data'])\n",
    "df"
   ]
  },
  {
   "cell_type": "markdown",
   "metadata": {},
   "source": [
    "## 4. Cleaning Data"
   ]
  },
  {
   "cell_type": "markdown",
   "metadata": {},
   "source": [
    "## 5. Time series modeling"
   ]
  },
  {
   "cell_type": "code",
   "execution_count": 21,
   "metadata": {},
   "outputs": [],
   "source": [
    "# This is the Arima alternative reddit post\n",
    "# https://www.reddit.com/r/datascience/comments/gro5w8/alternative_approaches_to_arima_for_time_series/"
   ]
  }
 ],
 "metadata": {
  "kernelspec": {
   "display_name": "learn-env",
   "language": "python",
   "name": "learn-env"
  },
  "language_info": {
   "codemirror_mode": {
    "name": "ipython",
    "version": 3
   },
   "file_extension": ".py",
   "mimetype": "text/x-python",
   "name": "python",
   "nbconvert_exporter": "python",
   "pygments_lexer": "ipython3",
   "version": "3.6.9"
  }
 },
 "nbformat": 4,
 "nbformat_minor": 4
}
