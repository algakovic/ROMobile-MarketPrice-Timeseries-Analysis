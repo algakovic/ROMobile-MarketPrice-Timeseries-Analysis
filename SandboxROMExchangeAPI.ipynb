{
 "cells": [
  {
   "cell_type": "markdown",
   "metadata": {},
   "source": [
    "# RomExchange API Sandbox"
   ]
  },
  {
   "cell_type": "markdown",
   "metadata": {},
   "source": [
    "API Docs : https://jessicayeh.github.io/rom-exchange-openapi/#section/Recent-Changes"
   ]
  },
  {
   "cell_type": "code",
   "execution_count": 11,
   "metadata": {},
   "outputs": [],
   "source": [
    "import requests\n",
    "import pandas as pd\n",
    "import json\n",
    "from pandas.io.json import json_normalize"
   ]
  },
  {
   "cell_type": "code",
   "execution_count": 2,
   "metadata": {},
   "outputs": [],
   "source": [
    "url = 'https://www.romexchange.com/api?item=hypnoticlog&exact=false'\n",
    " \n",
    "headers = {'User-Agent': 'XY', 'Content-type': 'application/json'}\n"
   ]
  },
  {
   "cell_type": "code",
   "execution_count": 3,
   "metadata": {},
   "outputs": [],
   "source": [
    "r = requests.get(url, headers = headers)\n"
   ]
  },
  {
   "cell_type": "code",
   "execution_count": 4,
   "metadata": {},
   "outputs": [
    {
     "data": {
      "text/plain": [
       "200"
      ]
     },
     "execution_count": 4,
     "metadata": {},
     "output_type": "execute_result"
    }
   ],
   "source": [
    "r.status_code"
   ]
  },
  {
   "cell_type": "code",
   "execution_count": 5,
   "metadata": {},
   "outputs": [
    {
     "data": {
      "text/plain": [
       "{'Date': 'Sun, 31 May 2020 01:34:23 GMT', 'Server': 'nginx/1.17.6', 'Content-Type': 'application/json', 'Content-Length': '497', 'Vary': 'Accept-Encoding', 'Content-Encoding': 'gzip', 'X-Server-Cache': 'true', 'X-Proxy-Cache': 'MISS'}"
      ]
     },
     "execution_count": 5,
     "metadata": {},
     "output_type": "execute_result"
    }
   ],
   "source": [
    "r.headers"
   ]
  },
  {
   "cell_type": "code",
   "execution_count": 6,
   "metadata": {},
   "outputs": [
    {
     "name": "stdout",
     "output_type": "stream",
     "text": [
      "[{\"name\":\"Hypnotic Log\",\"type\":11,\"image\":null,\"global_sea_diff\":-27.5,\"global\":{\"week\":{\"data\":[{\"snap\":false,\"price\":1015,\"time\":\"2020-01-08T08:22:32Z\"},{\"snap\":false,\"price\":1037,\"time\":\"2020-01-09T08:41:25Z\"},{\"snap\":false,\"price\":970,\"time\":\"2020-01-10T08:39:19Z\"},{\"snap\":false,\"price\":913,\"time\":\"2020-01-11T08:43:45Z\"},{\"snap\":false,\"price\":874,\"time\":\"2020-01-12T08:36:45Z\"},{\"snap\":false,\"price\":872,\"time\":\"2020-01-13T08:37:11Z\"},{\"snap\":false,\"price\":814,\"time\":\"2020-01-14T08:29:12Z\"}],\"change\":-19.8},\"latest\":814,\"latest_time\":\"2020-01-14T08:29:12Z\"},\"sea\":{\"week\":{\"data\":[{\"snap\":false,\"price\":601,\"time\":\"2020-01-08T11:01:27Z\"},{\"snap\":false,\"price\":618,\"time\":\"2020-01-09T11:34:00Z\"},{\"snap\":false,\"price\":633,\"time\":\"2020-01-10T11:59:45Z\"},{\"snap\":false,\"price\":636,\"time\":\"2020-01-11T11:47:37Z\"},{\"snap\":false,\"price\":634,\"time\":\"2020-01-12T11:22:03Z\"},{\"snap\":false,\"price\":603,\"time\":\"2020-01-13T11:29:58Z\"},{\"snap\":false,\"price\":590,\"time\":\"2020-01-14T11:14:47Z\"}],\"change\":-1.8},\"latest\":590,\"latest_time\":\"2020-01-14T11:14:47Z\"},\"autocorrect_accuracy\":95.7},{\"name\":\"HP Potion\",\"type\":16,\"image\":null,\"global_sea_diff\":-24.8,\"global\":{\"week\":{\"data\":[],\"change\":0},\"latest\":782817,\"latest_time\":\"2019-12-30T11:42:39Z\"},\"sea\":{\"week\":{\"data\":[{\"snap\":true,\"price\":598241,\"time\":\"2020-01-08T11:12:32Z\"},{\"snap\":true,\"price\":598963,\"time\":\"2020-01-10T12:10:44Z\"},{\"snap\":false,\"price\":602093,\"time\":\"2020-01-11T12:11:22Z\"},{\"snap\":false,\"price\":592292,\"time\":\"2020-01-13T11:53:07Z\"},{\"snap\":true,\"price\":588638,\"time\":\"2020-01-14T11:25:23Z\"}],\"change\":-1.6},\"latest\":588638,\"latest_time\":\"2020-01-14T11:25:23Z\"},\"autocorrect_accuracy\":60}]\n"
     ]
    }
   ],
   "source": [
    "print(r.text)"
   ]
  },
  {
   "cell_type": "code",
   "execution_count": 29,
   "metadata": {},
   "outputs": [],
   "source": [
    "j = r.json()"
   ]
  },
  {
   "cell_type": "code",
   "execution_count": 74,
   "metadata": {},
   "outputs": [
    {
     "data": {
      "text/html": [
       "<div>\n",
       "<style scoped>\n",
       "    .dataframe tbody tr th:only-of-type {\n",
       "        vertical-align: middle;\n",
       "    }\n",
       "\n",
       "    .dataframe tbody tr th {\n",
       "        vertical-align: top;\n",
       "    }\n",
       "\n",
       "    .dataframe thead th {\n",
       "        text-align: right;\n",
       "    }\n",
       "</style>\n",
       "<table border=\"1\" class=\"dataframe\">\n",
       "  <thead>\n",
       "    <tr style=\"text-align: right;\">\n",
       "      <th></th>\n",
       "      <th>name</th>\n",
       "      <th>type</th>\n",
       "      <th>image</th>\n",
       "      <th>global_sea_diff</th>\n",
       "      <th>global</th>\n",
       "      <th>sea</th>\n",
       "      <th>autocorrect_accuracy</th>\n",
       "    </tr>\n",
       "  </thead>\n",
       "  <tbody>\n",
       "    <tr>\n",
       "      <td>week</td>\n",
       "      <td>Hypnotic Log</td>\n",
       "      <td>11</td>\n",
       "      <td>None</td>\n",
       "      <td>-27.5</td>\n",
       "      <td>{'data': [{'snap': False, 'price': 1015, 'time...</td>\n",
       "      <td>{'data': [{'snap': False, 'price': 601, 'time'...</td>\n",
       "      <td>95.7</td>\n",
       "    </tr>\n",
       "    <tr>\n",
       "      <td>latest</td>\n",
       "      <td>Hypnotic Log</td>\n",
       "      <td>11</td>\n",
       "      <td>None</td>\n",
       "      <td>-27.5</td>\n",
       "      <td>814</td>\n",
       "      <td>590</td>\n",
       "      <td>95.7</td>\n",
       "    </tr>\n",
       "    <tr>\n",
       "      <td>latest_time</td>\n",
       "      <td>Hypnotic Log</td>\n",
       "      <td>11</td>\n",
       "      <td>None</td>\n",
       "      <td>-27.5</td>\n",
       "      <td>2020-01-14T08:29:12Z</td>\n",
       "      <td>2020-01-14T11:14:47Z</td>\n",
       "      <td>95.7</td>\n",
       "    </tr>\n",
       "  </tbody>\n",
       "</table>\n",
       "</div>"
      ],
      "text/plain": [
       "                     name  type image  global_sea_diff  \\\n",
       "week         Hypnotic Log    11  None            -27.5   \n",
       "latest       Hypnotic Log    11  None            -27.5   \n",
       "latest_time  Hypnotic Log    11  None            -27.5   \n",
       "\n",
       "                                                        global  \\\n",
       "week         {'data': [{'snap': False, 'price': 1015, 'time...   \n",
       "latest                                                     814   \n",
       "latest_time                               2020-01-14T08:29:12Z   \n",
       "\n",
       "                                                           sea  \\\n",
       "week         {'data': [{'snap': False, 'price': 601, 'time'...   \n",
       "latest                                                     590   \n",
       "latest_time                               2020-01-14T11:14:47Z   \n",
       "\n",
       "             autocorrect_accuracy  \n",
       "week                         95.7  \n",
       "latest                       95.7  \n",
       "latest_time                  95.7  "
      ]
     },
     "execution_count": 74,
     "metadata": {},
     "output_type": "execute_result"
    }
   ],
   "source": [
    "df = pd.DataFrame.from_dict(j[0])\n",
    "df"
   ]
  },
  {
   "cell_type": "code",
   "execution_count": 59,
   "metadata": {},
   "outputs": [
    {
     "ename": "SyntaxError",
     "evalue": "invalid syntax (<ipython-input-59-fcae6606e945>, line 1)",
     "output_type": "error",
     "traceback": [
      "\u001b[1;36m  File \u001b[1;32m\"<ipython-input-59-fcae6606e945>\"\u001b[1;36m, line \u001b[1;32m1\u001b[0m\n\u001b[1;33m    df.pivot_table(df, values=df.global.items)\u001b[0m\n\u001b[1;37m                                      ^\u001b[0m\n\u001b[1;31mSyntaxError\u001b[0m\u001b[1;31m:\u001b[0m invalid syntax\n"
     ]
    }
   ],
   "source": [
    "#Attempt at pivot table to get at the info in the dict\n",
    "df.pivot_table(df, values=df.global.items)"
   ]
  },
  {
   "cell_type": "code",
   "execution_count": 65,
   "metadata": {},
   "outputs": [
    {
     "data": {
      "text/plain": [
       "0   -27.5\n",
       "1   -24.8\n",
       "Name: global_sea_diff, dtype: float64"
      ]
     },
     "execution_count": 65,
     "metadata": {},
     "output_type": "execute_result"
    }
   ],
   "source": []
  },
  {
   "cell_type": "code",
   "execution_count": 68,
   "metadata": {},
   "outputs": [
    {
     "data": {
      "text/html": [
       "<div>\n",
       "<style scoped>\n",
       "    .dataframe tbody tr th:only-of-type {\n",
       "        vertical-align: middle;\n",
       "    }\n",
       "\n",
       "    .dataframe tbody tr th {\n",
       "        vertical-align: top;\n",
       "    }\n",
       "\n",
       "    .dataframe thead th {\n",
       "        text-align: right;\n",
       "    }\n",
       "</style>\n",
       "<table border=\"1\" class=\"dataframe\">\n",
       "  <thead>\n",
       "    <tr style=\"text-align: right;\">\n",
       "      <th></th>\n",
       "      <th>name</th>\n",
       "      <th>type</th>\n",
       "      <th>image</th>\n",
       "      <th>global_sea_diff</th>\n",
       "      <th>global</th>\n",
       "      <th>sea</th>\n",
       "      <th>autocorrect_accuracy</th>\n",
       "    </tr>\n",
       "  </thead>\n",
       "  <tbody>\n",
       "    <tr>\n",
       "      <td>0</td>\n",
       "      <td>Hypnotic Log</td>\n",
       "      <td>11</td>\n",
       "      <td>None</td>\n",
       "      <td>-27.5</td>\n",
       "      <td>{'week': {'data': [{'snap': False, 'price': 10...</td>\n",
       "      <td>{'week': {'data': [{'snap': False, 'price': 60...</td>\n",
       "      <td>95.7</td>\n",
       "    </tr>\n",
       "    <tr>\n",
       "      <td>1</td>\n",
       "      <td>HP Potion</td>\n",
       "      <td>16</td>\n",
       "      <td>None</td>\n",
       "      <td>-24.8</td>\n",
       "      <td>{'week': {'data': [], 'change': 0}, 'latest': ...</td>\n",
       "      <td>{'week': {'data': [{'snap': True, 'price': 598...</td>\n",
       "      <td>60.0</td>\n",
       "    </tr>\n",
       "  </tbody>\n",
       "</table>\n",
       "</div>"
      ],
      "text/plain": [
       "           name  type image  global_sea_diff  \\\n",
       "0  Hypnotic Log    11  None            -27.5   \n",
       "1     HP Potion    16  None            -24.8   \n",
       "\n",
       "                                              global  \\\n",
       "0  {'week': {'data': [{'snap': False, 'price': 10...   \n",
       "1  {'week': {'data': [], 'change': 0}, 'latest': ...   \n",
       "\n",
       "                                                 sea  autocorrect_accuracy  \n",
       "0  {'week': {'data': [{'snap': False, 'price': 60...                  95.7  \n",
       "1  {'week': {'data': [{'snap': True, 'price': 598...                  60.0  "
      ]
     },
     "execution_count": 68,
     "metadata": {},
     "output_type": "execute_result"
    }
   ],
   "source": [
    "df2 = pd.DataFrame.from_dict(j)\n",
    "df2"
   ]
  },
  {
   "cell_type": "code",
   "execution_count": 69,
   "metadata": {},
   "outputs": [
    {
     "data": {
      "text/html": [
       "<div>\n",
       "<style scoped>\n",
       "    .dataframe tbody tr th:only-of-type {\n",
       "        vertical-align: middle;\n",
       "    }\n",
       "\n",
       "    .dataframe tbody tr th {\n",
       "        vertical-align: top;\n",
       "    }\n",
       "\n",
       "    .dataframe thead th {\n",
       "        text-align: right;\n",
       "    }\n",
       "</style>\n",
       "<table border=\"1\" class=\"dataframe\">\n",
       "  <thead>\n",
       "    <tr style=\"text-align: right;\">\n",
       "      <th></th>\n",
       "      <th>name</th>\n",
       "      <th>type</th>\n",
       "      <th>image</th>\n",
       "      <th>global_sea_diff</th>\n",
       "      <th>global</th>\n",
       "      <th>sea</th>\n",
       "      <th>autocorrect_accuracy</th>\n",
       "    </tr>\n",
       "  </thead>\n",
       "  <tbody>\n",
       "    <tr>\n",
       "      <td>0</td>\n",
       "      <td>Hypnotic Log</td>\n",
       "      <td>11</td>\n",
       "      <td>None</td>\n",
       "      <td>-27.5</td>\n",
       "      <td>{'week': {'data': [{'snap': False, 'price': 10...</td>\n",
       "      <td>{'week': {'data': [{'snap': False, 'price': 60...</td>\n",
       "      <td>95.7</td>\n",
       "    </tr>\n",
       "    <tr>\n",
       "      <td>1</td>\n",
       "      <td>HP Potion</td>\n",
       "      <td>16</td>\n",
       "      <td>None</td>\n",
       "      <td>-24.8</td>\n",
       "      <td>{'week': {'data': [], 'change': 0}, 'latest': ...</td>\n",
       "      <td>{'week': {'data': [{'snap': True, 'price': 598...</td>\n",
       "      <td>60.0</td>\n",
       "    </tr>\n",
       "  </tbody>\n",
       "</table>\n",
       "</div>"
      ],
      "text/plain": [
       "           name  type image  global_sea_diff  \\\n",
       "0  Hypnotic Log    11  None            -27.5   \n",
       "1     HP Potion    16  None            -24.8   \n",
       "\n",
       "                                              global  \\\n",
       "0  {'week': {'data': [{'snap': False, 'price': 10...   \n",
       "1  {'week': {'data': [], 'change': 0}, 'latest': ...   \n",
       "\n",
       "                                                 sea  autocorrect_accuracy  \n",
       "0  {'week': {'data': [{'snap': False, 'price': 60...                  95.7  \n",
       "1  {'week': {'data': [{'snap': True, 'price': 598...                  60.0  "
      ]
     },
     "execution_count": 69,
     "metadata": {},
     "output_type": "execute_result"
    }
   ],
   "source": [
    "df2"
   ]
  },
  {
   "cell_type": "markdown",
   "metadata": {},
   "source": [
    "# Solution from Stack Overflow:# cities buffer will hold successes\n",
    "cities = []\n",
    "# iterate over the list of dictionaries:\n",
    "for i, each in enumerate(ddf['attributes']):\n",
    "    # check if the keys is in that dictionary, if so, keep the city name\n",
    "    if 'Take-out' in ddf['attributes'][i].keys():\n",
    "        # the index is named 'cities' and each position is a city name, so:\n",
    "        cities.append(ddf.index[i])\n",
    "print(cities)"
   ]
  },
  {
   "cell_type": "code",
   "execution_count": 103,
   "metadata": {},
   "outputs": [
    {
     "data": {
      "text/plain": [
       "list"
      ]
     },
     "execution_count": 103,
     "metadata": {},
     "output_type": "execute_result"
    }
   ],
   "source": []
  },
  {
   "cell_type": "code",
   "execution_count": 136,
   "metadata": {},
   "outputs": [
    {
     "data": {
      "text/html": [
       "<div>\n",
       "<style scoped>\n",
       "    .dataframe tbody tr th:only-of-type {\n",
       "        vertical-align: middle;\n",
       "    }\n",
       "\n",
       "    .dataframe tbody tr th {\n",
       "        vertical-align: top;\n",
       "    }\n",
       "\n",
       "    .dataframe thead th {\n",
       "        text-align: right;\n",
       "    }\n",
       "</style>\n",
       "<table border=\"1\" class=\"dataframe\">\n",
       "  <thead>\n",
       "    <tr style=\"text-align: right;\">\n",
       "      <th></th>\n",
       "      <th>snap</th>\n",
       "      <th>price</th>\n",
       "      <th>time</th>\n",
       "    </tr>\n",
       "  </thead>\n",
       "  <tbody>\n",
       "    <tr>\n",
       "      <td>0</td>\n",
       "      <td>False</td>\n",
       "      <td>1015</td>\n",
       "      <td>2020-01-08T08:22:32Z</td>\n",
       "    </tr>\n",
       "    <tr>\n",
       "      <td>1</td>\n",
       "      <td>False</td>\n",
       "      <td>1037</td>\n",
       "      <td>2020-01-09T08:41:25Z</td>\n",
       "    </tr>\n",
       "    <tr>\n",
       "      <td>2</td>\n",
       "      <td>False</td>\n",
       "      <td>970</td>\n",
       "      <td>2020-01-10T08:39:19Z</td>\n",
       "    </tr>\n",
       "    <tr>\n",
       "      <td>3</td>\n",
       "      <td>False</td>\n",
       "      <td>913</td>\n",
       "      <td>2020-01-11T08:43:45Z</td>\n",
       "    </tr>\n",
       "    <tr>\n",
       "      <td>4</td>\n",
       "      <td>False</td>\n",
       "      <td>874</td>\n",
       "      <td>2020-01-12T08:36:45Z</td>\n",
       "    </tr>\n",
       "    <tr>\n",
       "      <td>5</td>\n",
       "      <td>False</td>\n",
       "      <td>872</td>\n",
       "      <td>2020-01-13T08:37:11Z</td>\n",
       "    </tr>\n",
       "    <tr>\n",
       "      <td>6</td>\n",
       "      <td>False</td>\n",
       "      <td>814</td>\n",
       "      <td>2020-01-14T08:29:12Z</td>\n",
       "    </tr>\n",
       "  </tbody>\n",
       "</table>\n",
       "</div>"
      ],
      "text/plain": [
       "    snap  price                  time\n",
       "0  False   1015  2020-01-08T08:22:32Z\n",
       "1  False   1037  2020-01-09T08:41:25Z\n",
       "2  False    970  2020-01-10T08:39:19Z\n",
       "3  False    913  2020-01-11T08:43:45Z\n",
       "4  False    874  2020-01-12T08:36:45Z\n",
       "5  False    872  2020-01-13T08:37:11Z\n",
       "6  False    814  2020-01-14T08:29:12Z"
      ]
     },
     "execution_count": 136,
     "metadata": {},
     "output_type": "execute_result"
    }
   ],
   "source": [
    "# Attempt to make a dataframe out of just the dict header you need i.e. data header:\n",
    "df3 = pd.DataFrame(j[0]['global']['week']['data'])\n",
    "df3"
   ]
  },
  {
   "cell_type": "code",
   "execution_count": 137,
   "metadata": {},
   "outputs": [
    {
     "data": {
      "text/plain": [
       "{'name': 'Hypnotic Log',\n",
       " 'type': 11,\n",
       " 'image': None,\n",
       " 'global_sea_diff': -27.5,\n",
       " 'global': {'week': {'data': [{'snap': False,\n",
       "     'price': 1015,\n",
       "     'time': '2020-01-08T08:22:32Z'},\n",
       "    {'snap': False, 'price': 1037, 'time': '2020-01-09T08:41:25Z'},\n",
       "    {'snap': False, 'price': 970, 'time': '2020-01-10T08:39:19Z'},\n",
       "    {'snap': False, 'price': 913, 'time': '2020-01-11T08:43:45Z'},\n",
       "    {'snap': False, 'price': 874, 'time': '2020-01-12T08:36:45Z'},\n",
       "    {'snap': False, 'price': 872, 'time': '2020-01-13T08:37:11Z'},\n",
       "    {'snap': False, 'price': 814, 'time': '2020-01-14T08:29:12Z'}],\n",
       "   'change': -19.8},\n",
       "  'latest': 814,\n",
       "  'latest_time': '2020-01-14T08:29:12Z'},\n",
       " 'sea': {'week': {'data': [{'snap': False,\n",
       "     'price': 601,\n",
       "     'time': '2020-01-08T11:01:27Z'},\n",
       "    {'snap': False, 'price': 618, 'time': '2020-01-09T11:34:00Z'},\n",
       "    {'snap': False, 'price': 633, 'time': '2020-01-10T11:59:45Z'},\n",
       "    {'snap': False, 'price': 636, 'time': '2020-01-11T11:47:37Z'},\n",
       "    {'snap': False, 'price': 634, 'time': '2020-01-12T11:22:03Z'},\n",
       "    {'snap': False, 'price': 603, 'time': '2020-01-13T11:29:58Z'},\n",
       "    {'snap': False, 'price': 590, 'time': '2020-01-14T11:14:47Z'}],\n",
       "   'change': -1.8},\n",
       "  'latest': 590,\n",
       "  'latest_time': '2020-01-14T11:14:47Z'},\n",
       " 'autocorrect_accuracy': 95.7}"
      ]
     },
     "execution_count": 137,
     "metadata": {},
     "output_type": "execute_result"
    }
   ],
   "source": [
    "# Reference for above Dataframe indexing\n",
    "#j[0]['global']['week']\n",
    "j[0]"
   ]
  },
  {
   "cell_type": "code",
   "execution_count": null,
   "metadata": {},
   "outputs": [],
   "source": []
  }
 ],
 "metadata": {
  "kernelspec": {
   "display_name": "learn-env",
   "language": "python",
   "name": "learn-env"
  },
  "language_info": {
   "codemirror_mode": {
    "name": "ipython",
    "version": 3
   },
   "file_extension": ".py",
   "mimetype": "text/x-python",
   "name": "python",
   "nbconvert_exporter": "python",
   "pygments_lexer": "ipython3",
   "version": "3.6.9"
  }
 },
 "nbformat": 4,
 "nbformat_minor": 4
}
