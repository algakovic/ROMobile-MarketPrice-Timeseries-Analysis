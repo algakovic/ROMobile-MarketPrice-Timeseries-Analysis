{
 "cells": [
  {
   "cell_type": "markdown",
   "metadata": {},
   "source": [
    "# RomExchange API Sandbox"
   ]
  },
  {
   "cell_type": "markdown",
   "metadata": {},
   "source": [
    "Hello, \n",
    "\n",
    "RomExchange API Sandbox is currently a notebook where I can tinker with the Ro mobile Exchange API (see API Docs below).\n",
    "By tinker I mean:\n",
    "1. Making requests and obtaining data. \n",
    "2. Using Data in time series analysis.\n",
    "3. Implementing time series models e.g. SarimaX\n",
    "\n",
    "The data coveted is the historical market value of items in the game.\n",
    "\n",
    "API Docs : https://jessicayeh.github.io/rom-exchange-openapi/#section/Recent-Changes"
   ]
  },
  {
   "cell_type": "markdown",
   "metadata": {},
   "source": [
    "# Contents\n",
    "\n",
    "1. **Importing Libraries**  \n",
    "2. **Making requests**  \n",
    "3. **Making a Dataframe**  \n",
    "4. **Cleaning Data**  \n",
    "5. **Exploratory Data analysis**  \n",
    "5. **Time series modeling**  "
   ]
  },
  {
   "cell_type": "markdown",
   "metadata": {},
   "source": [
    "## 1. Importing Libraries"
   ]
  },
  {
   "cell_type": "code",
   "execution_count": 1,
   "metadata": {},
   "outputs": [],
   "source": [
    "import requests\n",
    "import pandas as pd\n",
    "import json\n",
    "from pandas.io.json import json_normalize\n",
    "from time import sleep\n",
    "\n",
    "import matplotlib.pyplot as plt\n",
    "%matplotlib inline\n",
    "plt.style.use('classic')\n",
    "import seaborn as sns\n",
    "sns.set()\n"
   ]
  },
  {
   "cell_type": "markdown",
   "metadata": {},
   "source": [
    "## 2. Making Requests"
   ]
  },
  {
   "cell_type": "code",
   "execution_count": 2,
   "metadata": {},
   "outputs": [],
   "source": [
    "# Define URL and Headers for the get below\n",
    "url = 'https://www.romexchange.com/api?item=hypnoticlog&exact=false&range=month'\n",
    " \n",
    "headers = {'User-Agent': 'XY', 'Content-type': 'application/json'}\n",
    "\n",
    "# To make a request over more periods of time will need to use the page query and set the page=2,3,4,5 etc. \n",
    "# Perhaps Automate this? Windows Task Scheduler?"
   ]
  },
  {
   "cell_type": "code",
   "execution_count": 25,
   "metadata": {},
   "outputs": [
    {
     "data": {
      "text/html": [
       "<div>\n",
       "<style scoped>\n",
       "    .dataframe tbody tr th:only-of-type {\n",
       "        vertical-align: middle;\n",
       "    }\n",
       "\n",
       "    .dataframe tbody tr th {\n",
       "        vertical-align: top;\n",
       "    }\n",
       "\n",
       "    .dataframe thead th {\n",
       "        text-align: right;\n",
       "    }\n",
       "</style>\n",
       "<table border=\"1\" class=\"dataframe\">\n",
       "  <thead>\n",
       "    <tr style=\"text-align: right;\">\n",
       "      <th></th>\n",
       "      <th>snap</th>\n",
       "      <th>price</th>\n",
       "      <th>time</th>\n",
       "    </tr>\n",
       "  </thead>\n",
       "  <tbody>\n",
       "  </tbody>\n",
       "</table>\n",
       "</div>"
      ],
      "text/plain": [
       "Empty DataFrame\n",
       "Columns: [snap, price, time]\n",
       "Index: []"
      ]
     },
     "execution_count": 25,
     "metadata": {},
     "output_type": "execute_result"
    }
   ],
   "source": [
    "# Make request for the data\n",
    "r = requests.get(url, headers = headers)\n",
    "dfglobal = pd.DataFrame(columns=['snap', 'price', 'time'])\n",
    "dfglobal"
   ]
  },
  {
   "cell_type": "code",
   "execution_count": 26,
   "metadata": {},
   "outputs": [
    {
     "name": "stdout",
     "output_type": "stream",
     "text": [
      "200\n",
      "[{\"name\":\"Hypnotic Log\",\"type\":11,\"image\":null,\"global_sea_diff\":-27.5,\"global\":{\"latest\":814,\"latest_time\":\"2020-01-14T08:29:12Z\",\"month\":{\"data\":[{\"snap\":false,\"price\":1030,\"time\":\"2019-12-15T09:16:53Z\"},{\"snap\":false,\"price\":992,\"time\":\"2019-12-16T09:03:01Z\"},{\"snap\":false,\"price\":983,\"time\":\"2019-12-17T08:51:58Z\"},{\"snap\":false,\"price\":1027,\"time\":\"2019-12-18T09:21:53Z\"},{\"snap\":false,\"price\":1029,\"time\":\"2019-12-19T08:34:15Z\"},{\"snap\":false,\"price\":1147,\"time\":\"2019-12-20T08:34:37Z\"},{\"snap\":false,\"price\":1282,\"time\":\"2019-12-21T08:48:52Z\"},{\"snap\":false,\"price\":1423,\"time\":\"2019-12-22T08:37:20Z\"},{\"snap\":false,\"price\":1792,\"time\":\"2019-12-23T08:47:50Z\"},{\"snap\":false,\"price\":2083,\"time\":\"2019-12-24T08:49:13Z\"},{\"snap\":false,\"price\":2078,\"time\":\"2019-12-25T08:36:52Z\"},{\"snap\":false,\"price\":2040,\"time\":\"2019-12-26T08:45:24Z\"},{\"snap\":false,\"price\":2063,\"time\":\"2019-12-27T08:37:04Z\"},{\"snap\":false,\"price\":1983,\"time\":\"2019-12-28T08:38:41Z\"},{\"snap\":false,\"price\":1976,\"time\":\"2019-12-29T08:20:26Z\"},{\"snap\":false,\"price\":1953,\"time\":\"2019-12-30T11:32:19Z\"},{\"snap\":false,\"price\":1830,\"time\":\"2019-12-31T08:40:08Z\"},{\"snap\":false,\"price\":1686,\"time\":\"2020-01-01T08:20:48Z\"},{\"snap\":false,\"price\":1523,\"time\":\"2020-01-02T08:32:03Z\"},{\"snap\":false,\"price\":1457,\"time\":\"2020-01-03T08:24:47Z\"},{\"snap\":false,\"price\":1336,\"time\":\"2020-01-04T08:38:27Z\"},{\"snap\":false,\"price\":1271,\"time\":\"2020-01-05T08:26:17Z\"},{\"snap\":false,\"price\":1101,\"time\":\"2020-01-07T08:35:59Z\"},{\"snap\":false,\"price\":1015,\"time\":\"2020-01-08T08:22:32Z\"},{\"snap\":false,\"price\":1037,\"time\":\"2020-01-09T08:41:25Z\"},{\"snap\":false,\"price\":970,\"time\":\"2020-01-10T08:39:19Z\"},{\"snap\":false,\"price\":913,\"time\":\"2020-01-11T08:43:45Z\"},{\"snap\":false,\"price\":874,\"time\":\"2020-01-12T08:36:45Z\"},{\"snap\":false,\"price\":872,\"time\":\"2020-01-13T08:37:11Z\"},{\"snap\":false,\"price\":814,\"time\":\"2020-01-14T08:29:12Z\"}],\"change\":-21}},\"sea\":{\"latest\":590,\"latest_time\":\"2020-01-14T11:14:47Z\",\"month\":{\"data\":[{\"snap\":false,\"price\":570,\"time\":\"2019-12-15T12:12:24Z\"},{\"snap\":false,\"price\":534,\"time\":\"2019-12-16T12:13:02Z\"},{\"snap\":false,\"price\":503,\"time\":\"2019-12-17T11:38:22Z\"},{\"snap\":false,\"price\":481,\"time\":\"2019-12-18T12:14:27Z\"},{\"snap\":false,\"price\":506,\"time\":\"2019-12-19T11:30:38Z\"},{\"snap\":false,\"price\":528,\"time\":\"2019-12-20T11:22:45Z\"},{\"snap\":false,\"price\":565,\"time\":\"2019-12-21T11:33:59Z\"},{\"snap\":false,\"price\":620,\"time\":\"2019-12-22T11:41:27Z\"},{\"snap\":false,\"price\":656,\"time\":\"2019-12-23T11:37:14Z\"},{\"snap\":false,\"price\":696,\"time\":\"2019-12-24T11:43:26Z\"},{\"snap\":false,\"price\":776,\"time\":\"2019-12-25T11:45:47Z\"},{\"snap\":false,\"price\":839,\"time\":\"2019-12-26T11:38:33Z\"},{\"snap\":false,\"price\":860,\"time\":\"2019-12-27T11:27:44Z\"},{\"snap\":false,\"price\":862,\"time\":\"2019-12-28T11:30:35Z\"},{\"snap\":false,\"price\":833,\"time\":\"2019-12-29T11:10:47Z\"},{\"snap\":false,\"price\":740,\"time\":\"2019-12-31T11:27:42Z\"},{\"snap\":false,\"price\":710,\"time\":\"2020-01-01T11:05:29Z\"},{\"snap\":false,\"price\":691,\"time\":\"2020-01-02T11:26:06Z\"},{\"snap\":false,\"price\":661,\"time\":\"2020-01-03T11:04:05Z\"},{\"snap\":false,\"price\":631,\"time\":\"2020-01-04T11:19:39Z\"},{\"snap\":false,\"price\":614,\"time\":\"2020-01-05T11:08:53Z\"},{\"snap\":false,\"price\":592,\"time\":\"2020-01-07T11:17:41Z\"},{\"snap\":false,\"price\":601,\"time\":\"2020-01-08T11:01:27Z\"},{\"snap\":false,\"price\":618,\"time\":\"2020-01-09T11:34:00Z\"},{\"snap\":false,\"price\":633,\"time\":\"2020-01-10T11:59:45Z\"},{\"snap\":false,\"price\":636,\"time\":\"2020-01-11T11:47:37Z\"},{\"snap\":false,\"price\":634,\"time\":\"2020-01-12T11:22:03Z\"},{\"snap\":false,\"price\":603,\"time\":\"2020-01-13T11:29:58Z\"},{\"snap\":false,\"price\":590,\"time\":\"2020-01-14T11:14:47Z\"}],\"change\":3.5}},\"autocorrect_accuracy\":95.7},{\"name\":\"HP Potion\",\"type\":16,\"image\":null,\"global_sea_diff\":-24.8,\"global\":{\"latest\":782817,\"latest_time\":\"2019-12-30T11:42:39Z\",\"month\":{\"data\":[{\"snap\":false,\"price\":688228,\"time\":\"2019-12-15T09:29:03Z\"},{\"snap\":false,\"price\":671920,\"time\":\"2019-12-24T08:58:50Z\"},{\"snap\":false,\"price\":698624,\"time\":\"2019-12-25T08:47:58Z\"},{\"snap\":false,\"price\":743839,\"time\":\"2019-12-26T08:55:59Z\"},{\"snap\":false,\"price\":766338,\"time\":\"2019-12-29T08:29:01Z\"},{\"snap\":false,\"price\":782817,\"time\":\"2019-12-30T11:42:39Z\"}],\"change\":13.7}},\"sea\":{\"latest\":588638,\"latest_time\":\"2020-01-14T11:25:23Z\",\"month\":{\"data\":[{\"snap\":true,\"price\":556273,\"time\":\"2019-12-15T12:24:03Z\"},{\"snap\":false,\"price\":532529,\"time\":\"2019-12-17T12:00:08Z\"},{\"snap\":false,\"price\":502706,\"time\":\"2019-12-18T12:39:15Z\"},{\"snap\":true,\"price\":532129,\"time\":\"2019-12-19T11:42:02Z\"},{\"snap\":false,\"price\":522232,\"time\":\"2019-12-21T11:56:37Z\"},{\"snap\":false,\"price\":516858,\"time\":\"2019-12-22T12:05:10Z\"},{\"snap\":false,\"price\":516617,\"time\":\"2019-12-23T11:59:55Z\"},{\"snap\":false,\"price\":518482,\"time\":\"2019-12-24T12:13:18Z\"},{\"snap\":false,\"price\":527436,\"time\":\"2019-12-26T12:05:05Z\"},{\"snap\":false,\"price\":523441,\"time\":\"2019-12-27T11:48:38Z\"},{\"snap\":false,\"price\":521338,\"time\":\"2019-12-28T11:52:39Z\"},{\"snap\":false,\"price\":531847,\"time\":\"2019-12-30T14:54:54Z\"},{\"snap\":false,\"price\":536435,\"time\":\"2019-12-31T11:50:26Z\"},{\"snap\":false,\"price\":569332,\"time\":\"2020-01-01T11:26:55Z\"},{\"snap\":false,\"price\":599535,\"time\":\"2020-01-02T11:50:26Z\"},{\"snap\":false,\"price\":615649,\"time\":\"2020-01-03T11:26:24Z\"},{\"snap\":true,\"price\":620614,\"time\":\"2020-01-04T11:30:57Z\"},{\"snap\":true,\"price\":598241,\"time\":\"2020-01-08T11:12:32Z\"},{\"snap\":true,\"price\":598963,\"time\":\"2020-01-10T12:10:44Z\"},{\"snap\":false,\"price\":602093,\"time\":\"2020-01-11T12:11:22Z\"},{\"snap\":false,\"price\":592292,\"time\":\"2020-01-13T11:53:07Z\"},{\"snap\":true,\"price\":588638,\"time\":\"2020-01-14T11:25:23Z\"}],\"change\":5.8}},\"autocorrect_accuracy\":60}]\n",
      "Empty DataFrame\n",
      "Columns: [snap, price, time]\n",
      "Index: []\n",
      "200\n",
      "[{\"name\":\"Hypnotic Log\",\"type\":11,\"image\":null,\"global_sea_diff\":-27.5,\"global\":{\"latest\":814,\"latest_time\":\"2020-01-14T08:29:12Z\",\"month\":{\"data\":[{\"snap\":false,\"price\":1030,\"time\":\"2019-12-15T09:16:53Z\"},{\"snap\":false,\"price\":992,\"time\":\"2019-12-16T09:03:01Z\"},{\"snap\":false,\"price\":983,\"time\":\"2019-12-17T08:51:58Z\"},{\"snap\":false,\"price\":1027,\"time\":\"2019-12-18T09:21:53Z\"},{\"snap\":false,\"price\":1029,\"time\":\"2019-12-19T08:34:15Z\"},{\"snap\":false,\"price\":1147,\"time\":\"2019-12-20T08:34:37Z\"},{\"snap\":false,\"price\":1282,\"time\":\"2019-12-21T08:48:52Z\"},{\"snap\":false,\"price\":1423,\"time\":\"2019-12-22T08:37:20Z\"},{\"snap\":false,\"price\":1792,\"time\":\"2019-12-23T08:47:50Z\"},{\"snap\":false,\"price\":2083,\"time\":\"2019-12-24T08:49:13Z\"},{\"snap\":false,\"price\":2078,\"time\":\"2019-12-25T08:36:52Z\"},{\"snap\":false,\"price\":2040,\"time\":\"2019-12-26T08:45:24Z\"},{\"snap\":false,\"price\":2063,\"time\":\"2019-12-27T08:37:04Z\"},{\"snap\":false,\"price\":1983,\"time\":\"2019-12-28T08:38:41Z\"},{\"snap\":false,\"price\":1976,\"time\":\"2019-12-29T08:20:26Z\"},{\"snap\":false,\"price\":1953,\"time\":\"2019-12-30T11:32:19Z\"},{\"snap\":false,\"price\":1830,\"time\":\"2019-12-31T08:40:08Z\"},{\"snap\":false,\"price\":1686,\"time\":\"2020-01-01T08:20:48Z\"},{\"snap\":false,\"price\":1523,\"time\":\"2020-01-02T08:32:03Z\"},{\"snap\":false,\"price\":1457,\"time\":\"2020-01-03T08:24:47Z\"},{\"snap\":false,\"price\":1336,\"time\":\"2020-01-04T08:38:27Z\"},{\"snap\":false,\"price\":1271,\"time\":\"2020-01-05T08:26:17Z\"},{\"snap\":false,\"price\":1101,\"time\":\"2020-01-07T08:35:59Z\"},{\"snap\":false,\"price\":1015,\"time\":\"2020-01-08T08:22:32Z\"},{\"snap\":false,\"price\":1037,\"time\":\"2020-01-09T08:41:25Z\"},{\"snap\":false,\"price\":970,\"time\":\"2020-01-10T08:39:19Z\"},{\"snap\":false,\"price\":913,\"time\":\"2020-01-11T08:43:45Z\"},{\"snap\":false,\"price\":874,\"time\":\"2020-01-12T08:36:45Z\"},{\"snap\":false,\"price\":872,\"time\":\"2020-01-13T08:37:11Z\"},{\"snap\":false,\"price\":814,\"time\":\"2020-01-14T08:29:12Z\"}],\"change\":-21}},\"sea\":{\"latest\":590,\"latest_time\":\"2020-01-14T11:14:47Z\",\"month\":{\"data\":[{\"snap\":false,\"price\":570,\"time\":\"2019-12-15T12:12:24Z\"},{\"snap\":false,\"price\":534,\"time\":\"2019-12-16T12:13:02Z\"},{\"snap\":false,\"price\":503,\"time\":\"2019-12-17T11:38:22Z\"},{\"snap\":false,\"price\":481,\"time\":\"2019-12-18T12:14:27Z\"},{\"snap\":false,\"price\":506,\"time\":\"2019-12-19T11:30:38Z\"},{\"snap\":false,\"price\":528,\"time\":\"2019-12-20T11:22:45Z\"},{\"snap\":false,\"price\":565,\"time\":\"2019-12-21T11:33:59Z\"},{\"snap\":false,\"price\":620,\"time\":\"2019-12-22T11:41:27Z\"},{\"snap\":false,\"price\":656,\"time\":\"2019-12-23T11:37:14Z\"},{\"snap\":false,\"price\":696,\"time\":\"2019-12-24T11:43:26Z\"},{\"snap\":false,\"price\":776,\"time\":\"2019-12-25T11:45:47Z\"},{\"snap\":false,\"price\":839,\"time\":\"2019-12-26T11:38:33Z\"},{\"snap\":false,\"price\":860,\"time\":\"2019-12-27T11:27:44Z\"},{\"snap\":false,\"price\":862,\"time\":\"2019-12-28T11:30:35Z\"},{\"snap\":false,\"price\":833,\"time\":\"2019-12-29T11:10:47Z\"},{\"snap\":false,\"price\":740,\"time\":\"2019-12-31T11:27:42Z\"},{\"snap\":false,\"price\":710,\"time\":\"2020-01-01T11:05:29Z\"},{\"snap\":false,\"price\":691,\"time\":\"2020-01-02T11:26:06Z\"},{\"snap\":false,\"price\":661,\"time\":\"2020-01-03T11:04:05Z\"},{\"snap\":false,\"price\":631,\"time\":\"2020-01-04T11:19:39Z\"},{\"snap\":false,\"price\":614,\"time\":\"2020-01-05T11:08:53Z\"},{\"snap\":false,\"price\":592,\"time\":\"2020-01-07T11:17:41Z\"},{\"snap\":false,\"price\":601,\"time\":\"2020-01-08T11:01:27Z\"},{\"snap\":false,\"price\":618,\"time\":\"2020-01-09T11:34:00Z\"},{\"snap\":false,\"price\":633,\"time\":\"2020-01-10T11:59:45Z\"},{\"snap\":false,\"price\":636,\"time\":\"2020-01-11T11:47:37Z\"},{\"snap\":false,\"price\":634,\"time\":\"2020-01-12T11:22:03Z\"},{\"snap\":false,\"price\":603,\"time\":\"2020-01-13T11:29:58Z\"},{\"snap\":false,\"price\":590,\"time\":\"2020-01-14T11:14:47Z\"}],\"change\":3.5}},\"autocorrect_accuracy\":95.7},{\"name\":\"HP Potion\",\"type\":16,\"image\":null,\"global_sea_diff\":-24.8,\"global\":{\"latest\":782817,\"latest_time\":\"2019-12-30T11:42:39Z\",\"month\":{\"data\":[{\"snap\":false,\"price\":688228,\"time\":\"2019-12-15T09:29:03Z\"},{\"snap\":false,\"price\":671920,\"time\":\"2019-12-24T08:58:50Z\"},{\"snap\":false,\"price\":698624,\"time\":\"2019-12-25T08:47:58Z\"},{\"snap\":false,\"price\":743839,\"time\":\"2019-12-26T08:55:59Z\"},{\"snap\":false,\"price\":766338,\"time\":\"2019-12-29T08:29:01Z\"},{\"snap\":false,\"price\":782817,\"time\":\"2019-12-30T11:42:39Z\"}],\"change\":13.7}},\"sea\":{\"latest\":588638,\"latest_time\":\"2020-01-14T11:25:23Z\",\"month\":{\"data\":[{\"snap\":true,\"price\":556273,\"time\":\"2019-12-15T12:24:03Z\"},{\"snap\":false,\"price\":532529,\"time\":\"2019-12-17T12:00:08Z\"},{\"snap\":false,\"price\":502706,\"time\":\"2019-12-18T12:39:15Z\"},{\"snap\":true,\"price\":532129,\"time\":\"2019-12-19T11:42:02Z\"},{\"snap\":false,\"price\":522232,\"time\":\"2019-12-21T11:56:37Z\"},{\"snap\":false,\"price\":516858,\"time\":\"2019-12-22T12:05:10Z\"},{\"snap\":false,\"price\":516617,\"time\":\"2019-12-23T11:59:55Z\"},{\"snap\":false,\"price\":518482,\"time\":\"2019-12-24T12:13:18Z\"},{\"snap\":false,\"price\":527436,\"time\":\"2019-12-26T12:05:05Z\"},{\"snap\":false,\"price\":523441,\"time\":\"2019-12-27T11:48:38Z\"},{\"snap\":false,\"price\":521338,\"time\":\"2019-12-28T11:52:39Z\"},{\"snap\":false,\"price\":531847,\"time\":\"2019-12-30T14:54:54Z\"},{\"snap\":false,\"price\":536435,\"time\":\"2019-12-31T11:50:26Z\"},{\"snap\":false,\"price\":569332,\"time\":\"2020-01-01T11:26:55Z\"},{\"snap\":false,\"price\":599535,\"time\":\"2020-01-02T11:50:26Z\"},{\"snap\":false,\"price\":615649,\"time\":\"2020-01-03T11:26:24Z\"},{\"snap\":true,\"price\":620614,\"time\":\"2020-01-04T11:30:57Z\"},{\"snap\":true,\"price\":598241,\"time\":\"2020-01-08T11:12:32Z\"},{\"snap\":true,\"price\":598963,\"time\":\"2020-01-10T12:10:44Z\"},{\"snap\":false,\"price\":602093,\"time\":\"2020-01-11T12:11:22Z\"},{\"snap\":false,\"price\":592292,\"time\":\"2020-01-13T11:53:07Z\"},{\"snap\":true,\"price\":588638,\"time\":\"2020-01-14T11:25:23Z\"}],\"change\":5.8}},\"autocorrect_accuracy\":60}]\n",
      "Empty DataFrame\n",
      "Columns: [snap, price, time]\n",
      "Index: []\n",
      "200\n",
      "[]\n"
     ]
    },
    {
     "ename": "IndexError",
     "evalue": "list index out of range",
     "output_type": "error",
     "traceback": [
      "\u001b[1;31m---------------------------------------------------------------------------\u001b[0m",
      "\u001b[1;31mIndexError\u001b[0m                                Traceback (most recent call last)",
      "\u001b[1;32m<ipython-input-26-e0f43ad9d722>\u001b[0m in \u001b[0;36m<module>\u001b[1;34m\u001b[0m\n\u001b[0;32m      7\u001b[0m     \u001b[0msleep\u001b[0m\u001b[1;33m(\u001b[0m\u001b[1;36m2\u001b[0m\u001b[1;33m)\u001b[0m\u001b[1;33m\u001b[0m\u001b[1;33m\u001b[0m\u001b[0m\n\u001b[0;32m      8\u001b[0m     \u001b[0mj\u001b[0m \u001b[1;33m=\u001b[0m \u001b[0mr\u001b[0m\u001b[1;33m.\u001b[0m\u001b[0mjson\u001b[0m\u001b[1;33m(\u001b[0m\u001b[1;33m)\u001b[0m\u001b[1;33m\u001b[0m\u001b[1;33m\u001b[0m\u001b[0m\n\u001b[1;32m----> 9\u001b[1;33m     \u001b[0mdftemp\u001b[0m \u001b[1;33m=\u001b[0m \u001b[0mpd\u001b[0m\u001b[1;33m.\u001b[0m\u001b[0mDataFrame\u001b[0m\u001b[1;33m(\u001b[0m\u001b[0mj\u001b[0m\u001b[1;33m[\u001b[0m\u001b[1;36m0\u001b[0m\u001b[1;33m]\u001b[0m\u001b[1;33m[\u001b[0m\u001b[1;34m'global'\u001b[0m\u001b[1;33m]\u001b[0m\u001b[1;33m[\u001b[0m\u001b[1;34m'month'\u001b[0m\u001b[1;33m]\u001b[0m\u001b[1;33m[\u001b[0m\u001b[1;34m'data'\u001b[0m\u001b[1;33m]\u001b[0m\u001b[1;33m)\u001b[0m\u001b[1;33m\u001b[0m\u001b[1;33m\u001b[0m\u001b[0m\n\u001b[0m\u001b[0;32m     10\u001b[0m     \u001b[0msleep\u001b[0m \u001b[1;33m(\u001b[0m\u001b[1;36m1\u001b[0m\u001b[1;33m)\u001b[0m\u001b[1;33m\u001b[0m\u001b[1;33m\u001b[0m\u001b[0m\n\u001b[0;32m     11\u001b[0m     \u001b[0mdfglobal\u001b[0m\u001b[1;33m.\u001b[0m\u001b[0mappend\u001b[0m\u001b[1;33m(\u001b[0m\u001b[0mdftemp\u001b[0m\u001b[1;33m)\u001b[0m\u001b[1;33m\u001b[0m\u001b[1;33m\u001b[0m\u001b[0m\n",
      "\u001b[1;31mIndexError\u001b[0m: list index out of range"
     ]
    }
   ],
   "source": [
    "# For loop Request with sleep timer\n",
    "for i in range(4):\n",
    "    r = requests.get(f'https://www.romexchange.com/api?item=hypnoticlog&exact=false&range=month&page={i}', headers = headers)\n",
    "    sleep(5)\n",
    "    print(r.status_code)\n",
    "    print(r.text)\n",
    "    sleep(2)\n",
    "    j = r.json()\n",
    "    dftemp = pd.DataFrame(j[0]['global']['month']['data'])\n",
    "    sleep (1)\n",
    "    dfglobal.append(dftemp)\n",
    "    print(dfglobal)\n",
    "    sleep(1)\n",
    "    \n",
    "    \n",
    "    "
   ]
  },
  {
   "cell_type": "code",
   "execution_count": 5,
   "metadata": {},
   "outputs": [
    {
     "data": {
      "text/plain": [
       "200"
      ]
     },
     "execution_count": 5,
     "metadata": {},
     "output_type": "execute_result"
    }
   ],
   "source": [
    "r.status_code"
   ]
  },
  {
   "cell_type": "code",
   "execution_count": 29,
   "metadata": {},
   "outputs": [
    {
     "name": "stdout",
     "output_type": "stream",
     "text": [
      "[{\"name\":\"Hypnotic Log\",\"type\":11,\"image\":null,\"global_sea_diff\":-27.5,\"global\":{\"latest\":814,\"latest_time\":\"2020-01-14T08:29:12Z\",\"month\":{\"data\":[{\"snap\":false,\"price\":1030,\"time\":\"2019-12-15T09:16:53Z\"},{\"snap\":false,\"price\":992,\"time\":\"2019-12-16T09:03:01Z\"},{\"snap\":false,\"price\":983,\"time\":\"2019-12-17T08:51:58Z\"},{\"snap\":false,\"price\":1027,\"time\":\"2019-12-18T09:21:53Z\"},{\"snap\":false,\"price\":1029,\"time\":\"2019-12-19T08:34:15Z\"},{\"snap\":false,\"price\":1147,\"time\":\"2019-12-20T08:34:37Z\"},{\"snap\":false,\"price\":1282,\"time\":\"2019-12-21T08:48:52Z\"},{\"snap\":false,\"price\":1423,\"time\":\"2019-12-22T08:37:20Z\"},{\"snap\":false,\"price\":1792,\"time\":\"2019-12-23T08:47:50Z\"},{\"snap\":false,\"price\":2083,\"time\":\"2019-12-24T08:49:13Z\"},{\"snap\":false,\"price\":2078,\"time\":\"2019-12-25T08:36:52Z\"},{\"snap\":false,\"price\":2040,\"time\":\"2019-12-26T08:45:24Z\"},{\"snap\":false,\"price\":2063,\"time\":\"2019-12-27T08:37:04Z\"},{\"snap\":false,\"price\":1983,\"time\":\"2019-12-28T08:38:41Z\"},{\"snap\":false,\"price\":1976,\"time\":\"2019-12-29T08:20:26Z\"},{\"snap\":false,\"price\":1953,\"time\":\"2019-12-30T11:32:19Z\"},{\"snap\":false,\"price\":1830,\"time\":\"2019-12-31T08:40:08Z\"},{\"snap\":false,\"price\":1686,\"time\":\"2020-01-01T08:20:48Z\"},{\"snap\":false,\"price\":1523,\"time\":\"2020-01-02T08:32:03Z\"},{\"snap\":false,\"price\":1457,\"time\":\"2020-01-03T08:24:47Z\"},{\"snap\":false,\"price\":1336,\"time\":\"2020-01-04T08:38:27Z\"},{\"snap\":false,\"price\":1271,\"time\":\"2020-01-05T08:26:17Z\"},{\"snap\":false,\"price\":1101,\"time\":\"2020-01-07T08:35:59Z\"},{\"snap\":false,\"price\":1015,\"time\":\"2020-01-08T08:22:32Z\"},{\"snap\":false,\"price\":1037,\"time\":\"2020-01-09T08:41:25Z\"},{\"snap\":false,\"price\":970,\"time\":\"2020-01-10T08:39:19Z\"},{\"snap\":false,\"price\":913,\"time\":\"2020-01-11T08:43:45Z\"},{\"snap\":false,\"price\":874,\"time\":\"2020-01-12T08:36:45Z\"},{\"snap\":false,\"price\":872,\"time\":\"2020-01-13T08:37:11Z\"},{\"snap\":false,\"price\":814,\"time\":\"2020-01-14T08:29:12Z\"}],\"change\":-21}},\"sea\":{\"latest\":590,\"latest_time\":\"2020-01-14T11:14:47Z\",\"month\":{\"data\":[{\"snap\":false,\"price\":570,\"time\":\"2019-12-15T12:12:24Z\"},{\"snap\":false,\"price\":534,\"time\":\"2019-12-16T12:13:02Z\"},{\"snap\":false,\"price\":503,\"time\":\"2019-12-17T11:38:22Z\"},{\"snap\":false,\"price\":481,\"time\":\"2019-12-18T12:14:27Z\"},{\"snap\":false,\"price\":506,\"time\":\"2019-12-19T11:30:38Z\"},{\"snap\":false,\"price\":528,\"time\":\"2019-12-20T11:22:45Z\"},{\"snap\":false,\"price\":565,\"time\":\"2019-12-21T11:33:59Z\"},{\"snap\":false,\"price\":620,\"time\":\"2019-12-22T11:41:27Z\"},{\"snap\":false,\"price\":656,\"time\":\"2019-12-23T11:37:14Z\"},{\"snap\":false,\"price\":696,\"time\":\"2019-12-24T11:43:26Z\"},{\"snap\":false,\"price\":776,\"time\":\"2019-12-25T11:45:47Z\"},{\"snap\":false,\"price\":839,\"time\":\"2019-12-26T11:38:33Z\"},{\"snap\":false,\"price\":860,\"time\":\"2019-12-27T11:27:44Z\"},{\"snap\":false,\"price\":862,\"time\":\"2019-12-28T11:30:35Z\"},{\"snap\":false,\"price\":833,\"time\":\"2019-12-29T11:10:47Z\"},{\"snap\":false,\"price\":740,\"time\":\"2019-12-31T11:27:42Z\"},{\"snap\":false,\"price\":710,\"time\":\"2020-01-01T11:05:29Z\"},{\"snap\":false,\"price\":691,\"time\":\"2020-01-02T11:26:06Z\"},{\"snap\":false,\"price\":661,\"time\":\"2020-01-03T11:04:05Z\"},{\"snap\":false,\"price\":631,\"time\":\"2020-01-04T11:19:39Z\"},{\"snap\":false,\"price\":614,\"time\":\"2020-01-05T11:08:53Z\"},{\"snap\":false,\"price\":592,\"time\":\"2020-01-07T11:17:41Z\"},{\"snap\":false,\"price\":601,\"time\":\"2020-01-08T11:01:27Z\"},{\"snap\":false,\"price\":618,\"time\":\"2020-01-09T11:34:00Z\"},{\"snap\":false,\"price\":633,\"time\":\"2020-01-10T11:59:45Z\"},{\"snap\":false,\"price\":636,\"time\":\"2020-01-11T11:47:37Z\"},{\"snap\":false,\"price\":634,\"time\":\"2020-01-12T11:22:03Z\"},{\"snap\":false,\"price\":603,\"time\":\"2020-01-13T11:29:58Z\"},{\"snap\":false,\"price\":590,\"time\":\"2020-01-14T11:14:47Z\"}],\"change\":3.5}},\"autocorrect_accuracy\":95.7},{\"name\":\"HP Potion\",\"type\":16,\"image\":null,\"global_sea_diff\":-24.8,\"global\":{\"latest\":782817,\"latest_time\":\"2019-12-30T11:42:39Z\",\"month\":{\"data\":[{\"snap\":false,\"price\":688228,\"time\":\"2019-12-15T09:29:03Z\"},{\"snap\":false,\"price\":671920,\"time\":\"2019-12-24T08:58:50Z\"},{\"snap\":false,\"price\":698624,\"time\":\"2019-12-25T08:47:58Z\"},{\"snap\":false,\"price\":743839,\"time\":\"2019-12-26T08:55:59Z\"},{\"snap\":false,\"price\":766338,\"time\":\"2019-12-29T08:29:01Z\"},{\"snap\":false,\"price\":782817,\"time\":\"2019-12-30T11:42:39Z\"}],\"change\":13.7}},\"sea\":{\"latest\":588638,\"latest_time\":\"2020-01-14T11:25:23Z\",\"month\":{\"data\":[{\"snap\":true,\"price\":556273,\"time\":\"2019-12-15T12:24:03Z\"},{\"snap\":false,\"price\":532529,\"time\":\"2019-12-17T12:00:08Z\"},{\"snap\":false,\"price\":502706,\"time\":\"2019-12-18T12:39:15Z\"},{\"snap\":true,\"price\":532129,\"time\":\"2019-12-19T11:42:02Z\"},{\"snap\":false,\"price\":522232,\"time\":\"2019-12-21T11:56:37Z\"},{\"snap\":false,\"price\":516858,\"time\":\"2019-12-22T12:05:10Z\"},{\"snap\":false,\"price\":516617,\"time\":\"2019-12-23T11:59:55Z\"},{\"snap\":false,\"price\":518482,\"time\":\"2019-12-24T12:13:18Z\"},{\"snap\":false,\"price\":527436,\"time\":\"2019-12-26T12:05:05Z\"},{\"snap\":false,\"price\":523441,\"time\":\"2019-12-27T11:48:38Z\"},{\"snap\":false,\"price\":521338,\"time\":\"2019-12-28T11:52:39Z\"},{\"snap\":false,\"price\":531847,\"time\":\"2019-12-30T14:54:54Z\"},{\"snap\":false,\"price\":536435,\"time\":\"2019-12-31T11:50:26Z\"},{\"snap\":false,\"price\":569332,\"time\":\"2020-01-01T11:26:55Z\"},{\"snap\":false,\"price\":599535,\"time\":\"2020-01-02T11:50:26Z\"},{\"snap\":false,\"price\":615649,\"time\":\"2020-01-03T11:26:24Z\"},{\"snap\":true,\"price\":620614,\"time\":\"2020-01-04T11:30:57Z\"},{\"snap\":true,\"price\":598241,\"time\":\"2020-01-08T11:12:32Z\"},{\"snap\":true,\"price\":598963,\"time\":\"2020-01-10T12:10:44Z\"},{\"snap\":false,\"price\":602093,\"time\":\"2020-01-11T12:11:22Z\"},{\"snap\":false,\"price\":592292,\"time\":\"2020-01-13T11:53:07Z\"},{\"snap\":true,\"price\":588638,\"time\":\"2020-01-14T11:25:23Z\"}],\"change\":5.8}},\"autocorrect_accuracy\":60}]\n"
     ]
    }
   ],
   "source": [
    "# Obtain content of request payload\n",
    "print(r.text)"
   ]
  },
  {
   "cell_type": "markdown",
   "metadata": {},
   "source": [
    "## 3. Creating a Dataframe"
   ]
  },
  {
   "cell_type": "code",
   "execution_count": 30,
   "metadata": {},
   "outputs": [
    {
     "data": {
      "text/plain": [
       "list"
      ]
     },
     "execution_count": 30,
     "metadata": {},
     "output_type": "execute_result"
    }
   ],
   "source": [
    "# Jsonify the data payload\n",
    "j = r.json()\n",
    "type(j)"
   ]
  },
  {
   "cell_type": "code",
   "execution_count": 31,
   "metadata": {},
   "outputs": [
    {
     "data": {
      "text/html": [
       "<div>\n",
       "<style scoped>\n",
       "    .dataframe tbody tr th:only-of-type {\n",
       "        vertical-align: middle;\n",
       "    }\n",
       "\n",
       "    .dataframe tbody tr th {\n",
       "        vertical-align: top;\n",
       "    }\n",
       "\n",
       "    .dataframe thead th {\n",
       "        text-align: right;\n",
       "    }\n",
       "</style>\n",
       "<table border=\"1\" class=\"dataframe\">\n",
       "  <thead>\n",
       "    <tr style=\"text-align: right;\">\n",
       "      <th></th>\n",
       "      <th>name</th>\n",
       "      <th>type</th>\n",
       "      <th>image</th>\n",
       "      <th>global_sea_diff</th>\n",
       "      <th>global</th>\n",
       "      <th>sea</th>\n",
       "      <th>autocorrect_accuracy</th>\n",
       "    </tr>\n",
       "  </thead>\n",
       "  <tbody>\n",
       "    <tr>\n",
       "      <td>latest</td>\n",
       "      <td>Hypnotic Log</td>\n",
       "      <td>11</td>\n",
       "      <td>None</td>\n",
       "      <td>-27.5</td>\n",
       "      <td>814</td>\n",
       "      <td>590</td>\n",
       "      <td>95.7</td>\n",
       "    </tr>\n",
       "    <tr>\n",
       "      <td>latest_time</td>\n",
       "      <td>Hypnotic Log</td>\n",
       "      <td>11</td>\n",
       "      <td>None</td>\n",
       "      <td>-27.5</td>\n",
       "      <td>2020-01-14T08:29:12Z</td>\n",
       "      <td>2020-01-14T11:14:47Z</td>\n",
       "      <td>95.7</td>\n",
       "    </tr>\n",
       "    <tr>\n",
       "      <td>month</td>\n",
       "      <td>Hypnotic Log</td>\n",
       "      <td>11</td>\n",
       "      <td>None</td>\n",
       "      <td>-27.5</td>\n",
       "      <td>{'data': [{'snap': False, 'price': 1030, 'time...</td>\n",
       "      <td>{'data': [{'snap': False, 'price': 570, 'time'...</td>\n",
       "      <td>95.7</td>\n",
       "    </tr>\n",
       "  </tbody>\n",
       "</table>\n",
       "</div>"
      ],
      "text/plain": [
       "                     name  type image  global_sea_diff  \\\n",
       "latest       Hypnotic Log    11  None            -27.5   \n",
       "latest_time  Hypnotic Log    11  None            -27.5   \n",
       "month        Hypnotic Log    11  None            -27.5   \n",
       "\n",
       "                                                        global  \\\n",
       "latest                                                     814   \n",
       "latest_time                               2020-01-14T08:29:12Z   \n",
       "month        {'data': [{'snap': False, 'price': 1030, 'time...   \n",
       "\n",
       "                                                           sea  \\\n",
       "latest                                                     590   \n",
       "latest_time                               2020-01-14T11:14:47Z   \n",
       "month        {'data': [{'snap': False, 'price': 570, 'time'...   \n",
       "\n",
       "             autocorrect_accuracy  \n",
       "latest                       95.7  \n",
       "latest_time                  95.7  \n",
       "month                        95.7  "
      ]
     },
     "execution_count": 31,
     "metadata": {},
     "output_type": "execute_result"
    }
   ],
   "source": [
    "# How does the json object look as a dataframe?\n",
    "dftest = pd.DataFrame.from_dict(j[0])\n",
    "dftest"
   ]
  },
  {
   "cell_type": "code",
   "execution_count": 32,
   "metadata": {},
   "outputs": [],
   "source": [
    "#Attempt at pivot table to get at the info in the dict\n",
    "# df.pivot_table(df, values=df.global.items)\n",
    "# Pivot table is not what I need here. Continue."
   ]
  },
  {
   "cell_type": "code",
   "execution_count": 33,
   "metadata": {},
   "outputs": [
    {
     "data": {
      "text/plain": [
       "{'name': 'Hypnotic Log',\n",
       " 'type': 11,\n",
       " 'image': None,\n",
       " 'global_sea_diff': -27.5,\n",
       " 'global': {'latest': 814,\n",
       "  'latest_time': '2020-01-14T08:29:12Z',\n",
       "  'month': {'data': [{'snap': False,\n",
       "     'price': 1030,\n",
       "     'time': '2019-12-15T09:16:53Z'},\n",
       "    {'snap': False, 'price': 992, 'time': '2019-12-16T09:03:01Z'},\n",
       "    {'snap': False, 'price': 983, 'time': '2019-12-17T08:51:58Z'},\n",
       "    {'snap': False, 'price': 1027, 'time': '2019-12-18T09:21:53Z'},\n",
       "    {'snap': False, 'price': 1029, 'time': '2019-12-19T08:34:15Z'},\n",
       "    {'snap': False, 'price': 1147, 'time': '2019-12-20T08:34:37Z'},\n",
       "    {'snap': False, 'price': 1282, 'time': '2019-12-21T08:48:52Z'},\n",
       "    {'snap': False, 'price': 1423, 'time': '2019-12-22T08:37:20Z'},\n",
       "    {'snap': False, 'price': 1792, 'time': '2019-12-23T08:47:50Z'},\n",
       "    {'snap': False, 'price': 2083, 'time': '2019-12-24T08:49:13Z'},\n",
       "    {'snap': False, 'price': 2078, 'time': '2019-12-25T08:36:52Z'},\n",
       "    {'snap': False, 'price': 2040, 'time': '2019-12-26T08:45:24Z'},\n",
       "    {'snap': False, 'price': 2063, 'time': '2019-12-27T08:37:04Z'},\n",
       "    {'snap': False, 'price': 1983, 'time': '2019-12-28T08:38:41Z'},\n",
       "    {'snap': False, 'price': 1976, 'time': '2019-12-29T08:20:26Z'},\n",
       "    {'snap': False, 'price': 1953, 'time': '2019-12-30T11:32:19Z'},\n",
       "    {'snap': False, 'price': 1830, 'time': '2019-12-31T08:40:08Z'},\n",
       "    {'snap': False, 'price': 1686, 'time': '2020-01-01T08:20:48Z'},\n",
       "    {'snap': False, 'price': 1523, 'time': '2020-01-02T08:32:03Z'},\n",
       "    {'snap': False, 'price': 1457, 'time': '2020-01-03T08:24:47Z'},\n",
       "    {'snap': False, 'price': 1336, 'time': '2020-01-04T08:38:27Z'},\n",
       "    {'snap': False, 'price': 1271, 'time': '2020-01-05T08:26:17Z'},\n",
       "    {'snap': False, 'price': 1101, 'time': '2020-01-07T08:35:59Z'},\n",
       "    {'snap': False, 'price': 1015, 'time': '2020-01-08T08:22:32Z'},\n",
       "    {'snap': False, 'price': 1037, 'time': '2020-01-09T08:41:25Z'},\n",
       "    {'snap': False, 'price': 970, 'time': '2020-01-10T08:39:19Z'},\n",
       "    {'snap': False, 'price': 913, 'time': '2020-01-11T08:43:45Z'},\n",
       "    {'snap': False, 'price': 874, 'time': '2020-01-12T08:36:45Z'},\n",
       "    {'snap': False, 'price': 872, 'time': '2020-01-13T08:37:11Z'},\n",
       "    {'snap': False, 'price': 814, 'time': '2020-01-14T08:29:12Z'}],\n",
       "   'change': -21}},\n",
       " 'sea': {'latest': 590,\n",
       "  'latest_time': '2020-01-14T11:14:47Z',\n",
       "  'month': {'data': [{'snap': False,\n",
       "     'price': 570,\n",
       "     'time': '2019-12-15T12:12:24Z'},\n",
       "    {'snap': False, 'price': 534, 'time': '2019-12-16T12:13:02Z'},\n",
       "    {'snap': False, 'price': 503, 'time': '2019-12-17T11:38:22Z'},\n",
       "    {'snap': False, 'price': 481, 'time': '2019-12-18T12:14:27Z'},\n",
       "    {'snap': False, 'price': 506, 'time': '2019-12-19T11:30:38Z'},\n",
       "    {'snap': False, 'price': 528, 'time': '2019-12-20T11:22:45Z'},\n",
       "    {'snap': False, 'price': 565, 'time': '2019-12-21T11:33:59Z'},\n",
       "    {'snap': False, 'price': 620, 'time': '2019-12-22T11:41:27Z'},\n",
       "    {'snap': False, 'price': 656, 'time': '2019-12-23T11:37:14Z'},\n",
       "    {'snap': False, 'price': 696, 'time': '2019-12-24T11:43:26Z'},\n",
       "    {'snap': False, 'price': 776, 'time': '2019-12-25T11:45:47Z'},\n",
       "    {'snap': False, 'price': 839, 'time': '2019-12-26T11:38:33Z'},\n",
       "    {'snap': False, 'price': 860, 'time': '2019-12-27T11:27:44Z'},\n",
       "    {'snap': False, 'price': 862, 'time': '2019-12-28T11:30:35Z'},\n",
       "    {'snap': False, 'price': 833, 'time': '2019-12-29T11:10:47Z'},\n",
       "    {'snap': False, 'price': 740, 'time': '2019-12-31T11:27:42Z'},\n",
       "    {'snap': False, 'price': 710, 'time': '2020-01-01T11:05:29Z'},\n",
       "    {'snap': False, 'price': 691, 'time': '2020-01-02T11:26:06Z'},\n",
       "    {'snap': False, 'price': 661, 'time': '2020-01-03T11:04:05Z'},\n",
       "    {'snap': False, 'price': 631, 'time': '2020-01-04T11:19:39Z'},\n",
       "    {'snap': False, 'price': 614, 'time': '2020-01-05T11:08:53Z'},\n",
       "    {'snap': False, 'price': 592, 'time': '2020-01-07T11:17:41Z'},\n",
       "    {'snap': False, 'price': 601, 'time': '2020-01-08T11:01:27Z'},\n",
       "    {'snap': False, 'price': 618, 'time': '2020-01-09T11:34:00Z'},\n",
       "    {'snap': False, 'price': 633, 'time': '2020-01-10T11:59:45Z'},\n",
       "    {'snap': False, 'price': 636, 'time': '2020-01-11T11:47:37Z'},\n",
       "    {'snap': False, 'price': 634, 'time': '2020-01-12T11:22:03Z'},\n",
       "    {'snap': False, 'price': 603, 'time': '2020-01-13T11:29:58Z'},\n",
       "    {'snap': False, 'price': 590, 'time': '2020-01-14T11:14:47Z'}],\n",
       "   'change': 3.5}},\n",
       " 'autocorrect_accuracy': 95.7}"
      ]
     },
     "execution_count": 33,
     "metadata": {},
     "output_type": "execute_result"
    }
   ],
   "source": [
    "# Reference for Dataframe indexing below\n",
    "j[0]"
   ]
  },
  {
   "cell_type": "code",
   "execution_count": 38,
   "metadata": {},
   "outputs": [
    {
     "data": {
      "text/html": [
       "<div>\n",
       "<style scoped>\n",
       "    .dataframe tbody tr th:only-of-type {\n",
       "        vertical-align: middle;\n",
       "    }\n",
       "\n",
       "    .dataframe tbody tr th {\n",
       "        vertical-align: top;\n",
       "    }\n",
       "\n",
       "    .dataframe thead th {\n",
       "        text-align: right;\n",
       "    }\n",
       "</style>\n",
       "<table border=\"1\" class=\"dataframe\">\n",
       "  <thead>\n",
       "    <tr style=\"text-align: right;\">\n",
       "      <th></th>\n",
       "      <th>snap</th>\n",
       "      <th>price</th>\n",
       "      <th>time</th>\n",
       "    </tr>\n",
       "  </thead>\n",
       "  <tbody>\n",
       "    <tr>\n",
       "      <td>0</td>\n",
       "      <td>False</td>\n",
       "      <td>570</td>\n",
       "      <td>2019-12-15T12:12:24Z</td>\n",
       "    </tr>\n",
       "    <tr>\n",
       "      <td>1</td>\n",
       "      <td>False</td>\n",
       "      <td>534</td>\n",
       "      <td>2019-12-16T12:13:02Z</td>\n",
       "    </tr>\n",
       "    <tr>\n",
       "      <td>2</td>\n",
       "      <td>False</td>\n",
       "      <td>503</td>\n",
       "      <td>2019-12-17T11:38:22Z</td>\n",
       "    </tr>\n",
       "    <tr>\n",
       "      <td>3</td>\n",
       "      <td>False</td>\n",
       "      <td>481</td>\n",
       "      <td>2019-12-18T12:14:27Z</td>\n",
       "    </tr>\n",
       "    <tr>\n",
       "      <td>4</td>\n",
       "      <td>False</td>\n",
       "      <td>506</td>\n",
       "      <td>2019-12-19T11:30:38Z</td>\n",
       "    </tr>\n",
       "    <tr>\n",
       "      <td>5</td>\n",
       "      <td>False</td>\n",
       "      <td>528</td>\n",
       "      <td>2019-12-20T11:22:45Z</td>\n",
       "    </tr>\n",
       "    <tr>\n",
       "      <td>6</td>\n",
       "      <td>False</td>\n",
       "      <td>565</td>\n",
       "      <td>2019-12-21T11:33:59Z</td>\n",
       "    </tr>\n",
       "    <tr>\n",
       "      <td>7</td>\n",
       "      <td>False</td>\n",
       "      <td>620</td>\n",
       "      <td>2019-12-22T11:41:27Z</td>\n",
       "    </tr>\n",
       "    <tr>\n",
       "      <td>8</td>\n",
       "      <td>False</td>\n",
       "      <td>656</td>\n",
       "      <td>2019-12-23T11:37:14Z</td>\n",
       "    </tr>\n",
       "    <tr>\n",
       "      <td>9</td>\n",
       "      <td>False</td>\n",
       "      <td>696</td>\n",
       "      <td>2019-12-24T11:43:26Z</td>\n",
       "    </tr>\n",
       "    <tr>\n",
       "      <td>10</td>\n",
       "      <td>False</td>\n",
       "      <td>776</td>\n",
       "      <td>2019-12-25T11:45:47Z</td>\n",
       "    </tr>\n",
       "    <tr>\n",
       "      <td>11</td>\n",
       "      <td>False</td>\n",
       "      <td>839</td>\n",
       "      <td>2019-12-26T11:38:33Z</td>\n",
       "    </tr>\n",
       "    <tr>\n",
       "      <td>12</td>\n",
       "      <td>False</td>\n",
       "      <td>860</td>\n",
       "      <td>2019-12-27T11:27:44Z</td>\n",
       "    </tr>\n",
       "    <tr>\n",
       "      <td>13</td>\n",
       "      <td>False</td>\n",
       "      <td>862</td>\n",
       "      <td>2019-12-28T11:30:35Z</td>\n",
       "    </tr>\n",
       "    <tr>\n",
       "      <td>14</td>\n",
       "      <td>False</td>\n",
       "      <td>833</td>\n",
       "      <td>2019-12-29T11:10:47Z</td>\n",
       "    </tr>\n",
       "    <tr>\n",
       "      <td>15</td>\n",
       "      <td>False</td>\n",
       "      <td>740</td>\n",
       "      <td>2019-12-31T11:27:42Z</td>\n",
       "    </tr>\n",
       "    <tr>\n",
       "      <td>16</td>\n",
       "      <td>False</td>\n",
       "      <td>710</td>\n",
       "      <td>2020-01-01T11:05:29Z</td>\n",
       "    </tr>\n",
       "    <tr>\n",
       "      <td>17</td>\n",
       "      <td>False</td>\n",
       "      <td>691</td>\n",
       "      <td>2020-01-02T11:26:06Z</td>\n",
       "    </tr>\n",
       "    <tr>\n",
       "      <td>18</td>\n",
       "      <td>False</td>\n",
       "      <td>661</td>\n",
       "      <td>2020-01-03T11:04:05Z</td>\n",
       "    </tr>\n",
       "    <tr>\n",
       "      <td>19</td>\n",
       "      <td>False</td>\n",
       "      <td>631</td>\n",
       "      <td>2020-01-04T11:19:39Z</td>\n",
       "    </tr>\n",
       "    <tr>\n",
       "      <td>20</td>\n",
       "      <td>False</td>\n",
       "      <td>614</td>\n",
       "      <td>2020-01-05T11:08:53Z</td>\n",
       "    </tr>\n",
       "    <tr>\n",
       "      <td>21</td>\n",
       "      <td>False</td>\n",
       "      <td>592</td>\n",
       "      <td>2020-01-07T11:17:41Z</td>\n",
       "    </tr>\n",
       "    <tr>\n",
       "      <td>22</td>\n",
       "      <td>False</td>\n",
       "      <td>601</td>\n",
       "      <td>2020-01-08T11:01:27Z</td>\n",
       "    </tr>\n",
       "    <tr>\n",
       "      <td>23</td>\n",
       "      <td>False</td>\n",
       "      <td>618</td>\n",
       "      <td>2020-01-09T11:34:00Z</td>\n",
       "    </tr>\n",
       "    <tr>\n",
       "      <td>24</td>\n",
       "      <td>False</td>\n",
       "      <td>633</td>\n",
       "      <td>2020-01-10T11:59:45Z</td>\n",
       "    </tr>\n",
       "    <tr>\n",
       "      <td>25</td>\n",
       "      <td>False</td>\n",
       "      <td>636</td>\n",
       "      <td>2020-01-11T11:47:37Z</td>\n",
       "    </tr>\n",
       "    <tr>\n",
       "      <td>26</td>\n",
       "      <td>False</td>\n",
       "      <td>634</td>\n",
       "      <td>2020-01-12T11:22:03Z</td>\n",
       "    </tr>\n",
       "    <tr>\n",
       "      <td>27</td>\n",
       "      <td>False</td>\n",
       "      <td>603</td>\n",
       "      <td>2020-01-13T11:29:58Z</td>\n",
       "    </tr>\n",
       "    <tr>\n",
       "      <td>28</td>\n",
       "      <td>False</td>\n",
       "      <td>590</td>\n",
       "      <td>2020-01-14T11:14:47Z</td>\n",
       "    </tr>\n",
       "  </tbody>\n",
       "</table>\n",
       "</div>"
      ],
      "text/plain": [
       "     snap  price                  time\n",
       "0   False    570  2019-12-15T12:12:24Z\n",
       "1   False    534  2019-12-16T12:13:02Z\n",
       "2   False    503  2019-12-17T11:38:22Z\n",
       "3   False    481  2019-12-18T12:14:27Z\n",
       "4   False    506  2019-12-19T11:30:38Z\n",
       "5   False    528  2019-12-20T11:22:45Z\n",
       "6   False    565  2019-12-21T11:33:59Z\n",
       "7   False    620  2019-12-22T11:41:27Z\n",
       "8   False    656  2019-12-23T11:37:14Z\n",
       "9   False    696  2019-12-24T11:43:26Z\n",
       "10  False    776  2019-12-25T11:45:47Z\n",
       "11  False    839  2019-12-26T11:38:33Z\n",
       "12  False    860  2019-12-27T11:27:44Z\n",
       "13  False    862  2019-12-28T11:30:35Z\n",
       "14  False    833  2019-12-29T11:10:47Z\n",
       "15  False    740  2019-12-31T11:27:42Z\n",
       "16  False    710  2020-01-01T11:05:29Z\n",
       "17  False    691  2020-01-02T11:26:06Z\n",
       "18  False    661  2020-01-03T11:04:05Z\n",
       "19  False    631  2020-01-04T11:19:39Z\n",
       "20  False    614  2020-01-05T11:08:53Z\n",
       "21  False    592  2020-01-07T11:17:41Z\n",
       "22  False    601  2020-01-08T11:01:27Z\n",
       "23  False    618  2020-01-09T11:34:00Z\n",
       "24  False    633  2020-01-10T11:59:45Z\n",
       "25  False    636  2020-01-11T11:47:37Z\n",
       "26  False    634  2020-01-12T11:22:03Z\n",
       "27  False    603  2020-01-13T11:29:58Z\n",
       "28  False    590  2020-01-14T11:14:47Z"
      ]
     },
     "execution_count": 38,
     "metadata": {},
     "output_type": "execute_result"
    }
   ],
   "source": [
    "# Attempt to make a dataframe out of just the 'data', price' dict headers\n",
    "dfglobal = pd.DataFrame(j[0]['global']['month']['data'])\n",
    "dfglobal\n",
    "\n",
    "dfsea = pd.DataFrame(j[0]['sea']['month']['data'])\n",
    "dfsea"
   ]
  },
  {
   "cell_type": "markdown",
   "metadata": {},
   "source": [
    "## 4. Cleaning Data"
   ]
  },
  {
   "cell_type": "markdown",
   "metadata": {},
   "source": [
    "## 5. Exploratory Data Analysis"
   ]
  },
  {
   "cell_type": "code",
   "execution_count": 62,
   "metadata": {},
   "outputs": [
    {
     "data": {
      "image/png": "[encoded data removed]",
      "text/plain": [
       "<Figure size 640x480 with 1 Axes>"
      ]
     },
     "metadata": {},
     "output_type": "display_data"
    }
   ],
   "source": [
    "#plt.hist(dfglobal['price'], normed=True, alpha=0.5)\n",
    "\n",
    "# Plot the data with Matplotlib defaults\n",
    "plt.plot(dfglobal.time, dfglobal.price)\n",
    "plt.legend('ABCDE', ncol=2, loc='upper left');"
   ]
  },
  {
   "cell_type": "markdown",
   "metadata": {},
   "source": [
    "## 6. Time series modeling"
   ]
  },
  {
   "cell_type": "code",
   "execution_count": 21,
   "metadata": {},
   "outputs": [],
   "source": [
    "# This is the Arima alternative reddit post\n",
    "# https://www.reddit.com/r/datascience/comments/gro5w8/alternative_approaches_to_arima_for_time_series/"
   ]
  }
 ],
 "metadata": {
  "kernelspec": {
   "display_name": "learn-env",
   "language": "python",
   "name": "learn-env"
  },
  "language_info": {
   "codemirror_mode": {
    "name": "ipython",
    "version": 3
   },
   "file_extension": ".py",
   "mimetype": "text/x-python",
   "name": "python",
   "nbconvert_exporter": "python",
   "pygments_lexer": "ipython3",
   "version": "3.6.9"
  }
 },
 "nbformat": 4,
 "nbformat_minor": 4
}
